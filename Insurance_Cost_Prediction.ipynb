{
 "cells": [
  {
   "cell_type": "markdown",
   "metadata": {},
   "source": [
    "# <center>Insurance Cost Prediction</center>"
   ]
  },
  {
   "cell_type": "markdown",
   "metadata": {},
   "source": [
    "**Business Problem:** An insurance company wants to automate the process of charging the patients with insurance amount based on their demographic, behavorial and region data.</br>\n",
    "**Objective:** To predict the insurance charges the patient has to pay based on their age, sex, number of children they have, whether they smoke or not and the region where they live.</br>\n",
    "**Approach:** Performed EDA uncovering the relationship between different variables. Found which variables are most correlated with the target variable i.e. charges. Fit Linear Regression, Decision Trees and Random Forest models to the data to choose the best performing model. Used GridSearchCV to select the best parameters for Random Forest Regressor.</br>"
   ]
  },
  {
   "cell_type": "code",
   "execution_count": 1,
   "metadata": {},
   "outputs": [],
   "source": [
    "# Import the necessary libraries\n",
    "\n",
    "# Libraries for data analysis\n",
    "import numpy as np\n",
    "import pandas as pd\n",
    "\n",
    "# Libraries for plotting\n",
    "import matplotlib.pyplot as plt\n",
    "%matplotlib inline\n",
    "import seaborn as sns\n",
    "\n",
    "# For encoding the categorical variables to numerical\n",
    "from sklearn.preprocessing import LabelEncoder\n",
    "\n",
    "# Libraries for modeling the data\n",
    "from sklearn.linear_model import LinearRegression\n",
    "from sklearn.tree import DecisionTreeRegressor\n",
    "from sklearn.ensemble import RandomForestRegressor\n",
    "import xgboost as xgb\n",
    "from sklearn.model_selection import train_test_split\n",
    "from sklearn.metrics import r2_score, mean_absolute_error, mean_squared_error\n",
    "# from sklearn.model_selection import GridSearchCV"
   ]
  },
  {
   "cell_type": "markdown",
   "metadata": {},
   "source": [
    "## Exploratory Data Analysis:"
   ]
  },
  {
   "cell_type": "code",
   "execution_count": 2,
   "metadata": {},
   "outputs": [],
   "source": [
    "# Read the data\n",
    "insurance = pd.read_csv('insurance.csv')"
   ]
  },
  {
   "cell_type": "code",
   "execution_count": 3,
   "metadata": {},
   "outputs": [
    {
     "data": {
      "text/html": [
       "<div>\n",
       "<style scoped>\n",
       "    .dataframe tbody tr th:only-of-type {\n",
       "        vertical-align: middle;\n",
       "    }\n",
       "\n",
       "    .dataframe tbody tr th {\n",
       "        vertical-align: top;\n",
       "    }\n",
       "\n",
       "    .dataframe thead th {\n",
       "        text-align: right;\n",
       "    }\n",
       "</style>\n",
       "<table border=\"1\" class=\"dataframe\">\n",
       "  <thead>\n",
       "    <tr style=\"text-align: right;\">\n",
       "      <th></th>\n",
       "      <th>age</th>\n",
       "      <th>sex</th>\n",
       "      <th>bmi</th>\n",
       "      <th>children</th>\n",
       "      <th>smoker</th>\n",
       "      <th>region</th>\n",
       "      <th>charges</th>\n",
       "    </tr>\n",
       "  </thead>\n",
       "  <tbody>\n",
       "    <tr>\n",
       "      <th>0</th>\n",
       "      <td>19</td>\n",
       "      <td>female</td>\n",
       "      <td>27.900</td>\n",
       "      <td>0</td>\n",
       "      <td>yes</td>\n",
       "      <td>southwest</td>\n",
       "      <td>16884.92400</td>\n",
       "    </tr>\n",
       "    <tr>\n",
       "      <th>1</th>\n",
       "      <td>18</td>\n",
       "      <td>male</td>\n",
       "      <td>33.770</td>\n",
       "      <td>1</td>\n",
       "      <td>no</td>\n",
       "      <td>southeast</td>\n",
       "      <td>1725.55230</td>\n",
       "    </tr>\n",
       "    <tr>\n",
       "      <th>2</th>\n",
       "      <td>28</td>\n",
       "      <td>male</td>\n",
       "      <td>33.000</td>\n",
       "      <td>3</td>\n",
       "      <td>no</td>\n",
       "      <td>southeast</td>\n",
       "      <td>4449.46200</td>\n",
       "    </tr>\n",
       "    <tr>\n",
       "      <th>3</th>\n",
       "      <td>33</td>\n",
       "      <td>male</td>\n",
       "      <td>22.705</td>\n",
       "      <td>0</td>\n",
       "      <td>no</td>\n",
       "      <td>northwest</td>\n",
       "      <td>21984.47061</td>\n",
       "    </tr>\n",
       "    <tr>\n",
       "      <th>4</th>\n",
       "      <td>32</td>\n",
       "      <td>male</td>\n",
       "      <td>28.880</td>\n",
       "      <td>0</td>\n",
       "      <td>no</td>\n",
       "      <td>northwest</td>\n",
       "      <td>3866.85520</td>\n",
       "    </tr>\n",
       "  </tbody>\n",
       "</table>\n",
       "</div>"
      ],
      "text/plain": [
       "   age     sex     bmi  children smoker     region      charges\n",
       "0   19  female  27.900         0    yes  southwest  16884.92400\n",
       "1   18    male  33.770         1     no  southeast   1725.55230\n",
       "2   28    male  33.000         3     no  southeast   4449.46200\n",
       "3   33    male  22.705         0     no  northwest  21984.47061\n",
       "4   32    male  28.880         0     no  northwest   3866.85520"
      ]
     },
     "execution_count": 3,
     "metadata": {},
     "output_type": "execute_result"
    }
   ],
   "source": [
    "insurance.head()"
   ]
  },
  {
   "cell_type": "code",
   "execution_count": 4,
   "metadata": {},
   "outputs": [
    {
     "name": "stdout",
     "output_type": "stream",
     "text": [
      "<class 'pandas.core.frame.DataFrame'>\n",
      "RangeIndex: 1338 entries, 0 to 1337\n",
      "Data columns (total 7 columns):\n",
      " #   Column    Non-Null Count  Dtype  \n",
      "---  ------    --------------  -----  \n",
      " 0   age       1338 non-null   int64  \n",
      " 1   sex       1338 non-null   object \n",
      " 2   bmi       1338 non-null   float64\n",
      " 3   children  1338 non-null   int64  \n",
      " 4   smoker    1338 non-null   object \n",
      " 5   region    1338 non-null   object \n",
      " 6   charges   1338 non-null   float64\n",
      "dtypes: float64(2), int64(2), object(3)\n",
      "memory usage: 73.3+ KB\n"
     ]
    }
   ],
   "source": [
    "insurance.info()"
   ]
  },
  {
   "cell_type": "code",
   "execution_count": 5,
   "metadata": {},
   "outputs": [
    {
     "data": {
      "text/html": [
       "<div>\n",
       "<style scoped>\n",
       "    .dataframe tbody tr th:only-of-type {\n",
       "        vertical-align: middle;\n",
       "    }\n",
       "\n",
       "    .dataframe tbody tr th {\n",
       "        vertical-align: top;\n",
       "    }\n",
       "\n",
       "    .dataframe thead th {\n",
       "        text-align: right;\n",
       "    }\n",
       "</style>\n",
       "<table border=\"1\" class=\"dataframe\">\n",
       "  <thead>\n",
       "    <tr style=\"text-align: right;\">\n",
       "      <th></th>\n",
       "      <th>age</th>\n",
       "      <th>sex</th>\n",
       "      <th>bmi</th>\n",
       "      <th>children</th>\n",
       "      <th>smoker</th>\n",
       "      <th>region</th>\n",
       "      <th>charges</th>\n",
       "    </tr>\n",
       "  </thead>\n",
       "  <tbody>\n",
       "    <tr>\n",
       "      <th>count</th>\n",
       "      <td>1338.000000</td>\n",
       "      <td>1338</td>\n",
       "      <td>1338.000000</td>\n",
       "      <td>1338.000000</td>\n",
       "      <td>1338</td>\n",
       "      <td>1338</td>\n",
       "      <td>1338.000000</td>\n",
       "    </tr>\n",
       "    <tr>\n",
       "      <th>unique</th>\n",
       "      <td>NaN</td>\n",
       "      <td>2</td>\n",
       "      <td>NaN</td>\n",
       "      <td>NaN</td>\n",
       "      <td>2</td>\n",
       "      <td>4</td>\n",
       "      <td>NaN</td>\n",
       "    </tr>\n",
       "    <tr>\n",
       "      <th>top</th>\n",
       "      <td>NaN</td>\n",
       "      <td>male</td>\n",
       "      <td>NaN</td>\n",
       "      <td>NaN</td>\n",
       "      <td>no</td>\n",
       "      <td>southeast</td>\n",
       "      <td>NaN</td>\n",
       "    </tr>\n",
       "    <tr>\n",
       "      <th>freq</th>\n",
       "      <td>NaN</td>\n",
       "      <td>676</td>\n",
       "      <td>NaN</td>\n",
       "      <td>NaN</td>\n",
       "      <td>1064</td>\n",
       "      <td>364</td>\n",
       "      <td>NaN</td>\n",
       "    </tr>\n",
       "    <tr>\n",
       "      <th>mean</th>\n",
       "      <td>39.207025</td>\n",
       "      <td>NaN</td>\n",
       "      <td>30.663397</td>\n",
       "      <td>1.094918</td>\n",
       "      <td>NaN</td>\n",
       "      <td>NaN</td>\n",
       "      <td>13270.422265</td>\n",
       "    </tr>\n",
       "    <tr>\n",
       "      <th>std</th>\n",
       "      <td>14.049960</td>\n",
       "      <td>NaN</td>\n",
       "      <td>6.098187</td>\n",
       "      <td>1.205493</td>\n",
       "      <td>NaN</td>\n",
       "      <td>NaN</td>\n",
       "      <td>12110.011237</td>\n",
       "    </tr>\n",
       "    <tr>\n",
       "      <th>min</th>\n",
       "      <td>18.000000</td>\n",
       "      <td>NaN</td>\n",
       "      <td>15.960000</td>\n",
       "      <td>0.000000</td>\n",
       "      <td>NaN</td>\n",
       "      <td>NaN</td>\n",
       "      <td>1121.873900</td>\n",
       "    </tr>\n",
       "    <tr>\n",
       "      <th>25%</th>\n",
       "      <td>27.000000</td>\n",
       "      <td>NaN</td>\n",
       "      <td>26.296250</td>\n",
       "      <td>0.000000</td>\n",
       "      <td>NaN</td>\n",
       "      <td>NaN</td>\n",
       "      <td>4740.287150</td>\n",
       "    </tr>\n",
       "    <tr>\n",
       "      <th>50%</th>\n",
       "      <td>39.000000</td>\n",
       "      <td>NaN</td>\n",
       "      <td>30.400000</td>\n",
       "      <td>1.000000</td>\n",
       "      <td>NaN</td>\n",
       "      <td>NaN</td>\n",
       "      <td>9382.033000</td>\n",
       "    </tr>\n",
       "    <tr>\n",
       "      <th>75%</th>\n",
       "      <td>51.000000</td>\n",
       "      <td>NaN</td>\n",
       "      <td>34.693750</td>\n",
       "      <td>2.000000</td>\n",
       "      <td>NaN</td>\n",
       "      <td>NaN</td>\n",
       "      <td>16639.912515</td>\n",
       "    </tr>\n",
       "    <tr>\n",
       "      <th>max</th>\n",
       "      <td>64.000000</td>\n",
       "      <td>NaN</td>\n",
       "      <td>53.130000</td>\n",
       "      <td>5.000000</td>\n",
       "      <td>NaN</td>\n",
       "      <td>NaN</td>\n",
       "      <td>63770.428010</td>\n",
       "    </tr>\n",
       "  </tbody>\n",
       "</table>\n",
       "</div>"
      ],
      "text/plain": [
       "                age   sex          bmi     children smoker     region  \\\n",
       "count   1338.000000  1338  1338.000000  1338.000000   1338       1338   \n",
       "unique          NaN     2          NaN          NaN      2          4   \n",
       "top             NaN  male          NaN          NaN     no  southeast   \n",
       "freq            NaN   676          NaN          NaN   1064        364   \n",
       "mean      39.207025   NaN    30.663397     1.094918    NaN        NaN   \n",
       "std       14.049960   NaN     6.098187     1.205493    NaN        NaN   \n",
       "min       18.000000   NaN    15.960000     0.000000    NaN        NaN   \n",
       "25%       27.000000   NaN    26.296250     0.000000    NaN        NaN   \n",
       "50%       39.000000   NaN    30.400000     1.000000    NaN        NaN   \n",
       "75%       51.000000   NaN    34.693750     2.000000    NaN        NaN   \n",
       "max       64.000000   NaN    53.130000     5.000000    NaN        NaN   \n",
       "\n",
       "             charges  \n",
       "count    1338.000000  \n",
       "unique           NaN  \n",
       "top              NaN  \n",
       "freq             NaN  \n",
       "mean    13270.422265  \n",
       "std     12110.011237  \n",
       "min      1121.873900  \n",
       "25%      4740.287150  \n",
       "50%      9382.033000  \n",
       "75%     16639.912515  \n",
       "max     63770.428010  "
      ]
     },
     "execution_count": 5,
     "metadata": {},
     "output_type": "execute_result"
    }
   ],
   "source": [
    "# Getting a gist of the data\n",
    "insurance.describe(include='all')"
   ]
  },
  {
   "cell_type": "code",
   "execution_count": 6,
   "metadata": {},
   "outputs": [
    {
     "data": {
      "text/plain": [
       "age         0\n",
       "sex         0\n",
       "bmi         0\n",
       "children    0\n",
       "smoker      0\n",
       "region      0\n",
       "charges     0\n",
       "dtype: int64"
      ]
     },
     "execution_count": 6,
     "metadata": {},
     "output_type": "execute_result"
    }
   ],
   "source": [
    "# Checking if there are any missing values\n",
    "insurance.isna().sum()"
   ]
  },
  {
   "cell_type": "code",
   "execution_count": 7,
   "metadata": {},
   "outputs": [
    {
     "data": {
      "text/plain": [
       "['sex', 'smoker', 'region']"
      ]
     },
     "execution_count": 7,
     "metadata": {},
     "output_type": "execute_result"
    }
   ],
   "source": [
    "categorical_cols = list(insurance.select_dtypes(include='object').columns)\n",
    "categorical_cols"
   ]
  },
  {
   "cell_type": "code",
   "execution_count": 8,
   "metadata": {},
   "outputs": [
    {
     "data": {
      "text/plain": [
       "male      676\n",
       "female    662\n",
       "Name: sex, dtype: int64"
      ]
     },
     "execution_count": 8,
     "metadata": {},
     "output_type": "execute_result"
    }
   ],
   "source": [
    "# Distribution of male and females in the dataset\n",
    "insurance.sex.value_counts()"
   ]
  },
  {
   "cell_type": "markdown",
   "metadata": {},
   "source": [
    "Distribution of male and female patients in the dataset is almost equal."
   ]
  },
  {
   "cell_type": "code",
   "execution_count": 9,
   "metadata": {},
   "outputs": [
    {
     "data": {
      "text/plain": [
       "no     1064\n",
       "yes     274\n",
       "Name: smoker, dtype: int64"
      ]
     },
     "execution_count": 9,
     "metadata": {},
     "output_type": "execute_result"
    }
   ],
   "source": [
    "# Distribution of smokers and non-smokers in the dataset\n",
    "insurance.smoker.value_counts()"
   ]
  },
  {
   "cell_type": "markdown",
   "metadata": {},
   "source": [
    "The number of patients not smoking is very less as compared to those who smoke."
   ]
  },
  {
   "cell_type": "code",
   "execution_count": 10,
   "metadata": {},
   "outputs": [
    {
     "data": {
      "text/plain": [
       "southeast    364\n",
       "northwest    325\n",
       "southwest    325\n",
       "northeast    324\n",
       "Name: region, dtype: int64"
      ]
     },
     "execution_count": 10,
     "metadata": {},
     "output_type": "execute_result"
    }
   ],
   "source": [
    "insurance.region.value_counts()"
   ]
  },
  {
   "cell_type": "code",
   "execution_count": 11,
   "metadata": {},
   "outputs": [
    {
     "data": {
      "text/plain": [
       "<matplotlib.axes._subplots.AxesSubplot at 0x2eb7de1e908>"
      ]
     },
     "execution_count": 11,
     "metadata": {},
     "output_type": "execute_result"
    },
    {
     "data": {
      "image/png": "[encoded data removed]",
      "text/plain": [
       "<Figure size 648x360 with 1 Axes>"
      ]
     },
     "metadata": {},
     "output_type": "display_data"
    }
   ],
   "source": [
    "# Plotting the distribution of charges column\n",
    "sns.set_style(\"darkgrid\")\n",
    "plt.rcParams['font.size'] = 14\n",
    "plt.rcParams['figure.figsize'] = (9, 5)\n",
    "plt.title(\"Distribution of charges\")\n",
    "sns.distplot(insurance.charges)"
   ]
  },
  {
   "cell_type": "markdown",
   "metadata": {},
   "source": [
    "Distribution of the insurance charges is **Right Skewed** or we can say it has **Positive Skewness**."
   ]
  },
  {
   "cell_type": "code",
   "execution_count": 12,
   "metadata": {},
   "outputs": [
    {
     "data": {
      "text/plain": [
       "<matplotlib.axes._subplots.AxesSubplot at 0x2eb7e6230c8>"
      ]
     },
     "execution_count": 12,
     "metadata": {},
     "output_type": "execute_result"
    },
    {
     "data": {
      "image/png": "[encoded data removed]",
      "text/plain": [
       "<Figure size 648x360 with 1 Axes>"
      ]
     },
     "metadata": {},
     "output_type": "display_data"
    }
   ],
   "source": [
    "# Plotting the distribution of charges column by using log transformation to reduce skewness\n",
    "import seaborn as sns\n",
    "sns.set_style(\"darkgrid\")\n",
    "plt.rcParams['font.size'] = 14\n",
    "plt.rcParams['figure.figsize'] = (9, 5)\n",
    "plt.title(\"Distribution of charges (Log Transformation)\")\n",
    "sns.distplot(np.log(insurance.charges))"
   ]
  },
  {
   "cell_type": "code",
   "execution_count": 13,
   "metadata": {},
   "outputs": [
    {
     "data": {
      "text/plain": [
       "Text(0.5, 1.0, 'Charges Frequency Distribution')"
      ]
     },
     "execution_count": 13,
     "metadata": {},
     "output_type": "execute_result"
    },
    {
     "data": {
      "image/png": "[encoded data removed]",
      "text/plain": [
       "<Figure size 648x360 with 1 Axes>"
      ]
     },
     "metadata": {},
     "output_type": "display_data"
    }
   ],
   "source": [
    "# Frequency distribution of charges column using matplotlib\n",
    "plt.hist(x=insurance.charges, bins='auto')\n",
    "plt.xlabel('Charges')\n",
    "plt.ylabel('Frequency')\n",
    "plt.title('Charges Frequency Distribution')"
   ]
  },
  {
   "cell_type": "markdown",
   "metadata": {},
   "source": [
    "### Label Encoding the categorical variables"
   ]
  },
  {
   "cell_type": "code",
   "execution_count": 14,
   "metadata": {},
   "outputs": [],
   "source": [
    "# Using LabelEncoder to encode the categorical variables\n",
    "le = LabelEncoder()\n",
    "# sex: 0 - Female, 1 - Male\n",
    "le.fit(insurance.sex.drop_duplicates()) \n",
    "insurance.sex = le.transform(insurance.sex)\n",
    "# smoker: 1 - Yes, 0 - No\n",
    "le.fit(insurance.smoker.drop_duplicates()) \n",
    "insurance.smoker = le.transform(insurance.smoker)\n",
    "# region: 1 - Northwest, 2 - Southeast, 3 - Southwest, 4 - Northeast\n",
    "le.fit(insurance.region.drop_duplicates()) \n",
    "insurance.region = le.transform(insurance.region)"
   ]
  },
  {
   "cell_type": "code",
   "execution_count": 15,
   "metadata": {},
   "outputs": [
    {
     "data": {
      "text/html": [
       "<div>\n",
       "<style scoped>\n",
       "    .dataframe tbody tr th:only-of-type {\n",
       "        vertical-align: middle;\n",
       "    }\n",
       "\n",
       "    .dataframe tbody tr th {\n",
       "        vertical-align: top;\n",
       "    }\n",
       "\n",
       "    .dataframe thead th {\n",
       "        text-align: right;\n",
       "    }\n",
       "</style>\n",
       "<table border=\"1\" class=\"dataframe\">\n",
       "  <thead>\n",
       "    <tr style=\"text-align: right;\">\n",
       "      <th></th>\n",
       "      <th>age</th>\n",
       "      <th>sex</th>\n",
       "      <th>bmi</th>\n",
       "      <th>children</th>\n",
       "      <th>smoker</th>\n",
       "      <th>region</th>\n",
       "      <th>charges</th>\n",
       "    </tr>\n",
       "  </thead>\n",
       "  <tbody>\n",
       "    <tr>\n",
       "      <th>0</th>\n",
       "      <td>19</td>\n",
       "      <td>0</td>\n",
       "      <td>27.900</td>\n",
       "      <td>0</td>\n",
       "      <td>1</td>\n",
       "      <td>3</td>\n",
       "      <td>16884.92400</td>\n",
       "    </tr>\n",
       "    <tr>\n",
       "      <th>1</th>\n",
       "      <td>18</td>\n",
       "      <td>1</td>\n",
       "      <td>33.770</td>\n",
       "      <td>1</td>\n",
       "      <td>0</td>\n",
       "      <td>2</td>\n",
       "      <td>1725.55230</td>\n",
       "    </tr>\n",
       "    <tr>\n",
       "      <th>2</th>\n",
       "      <td>28</td>\n",
       "      <td>1</td>\n",
       "      <td>33.000</td>\n",
       "      <td>3</td>\n",
       "      <td>0</td>\n",
       "      <td>2</td>\n",
       "      <td>4449.46200</td>\n",
       "    </tr>\n",
       "    <tr>\n",
       "      <th>3</th>\n",
       "      <td>33</td>\n",
       "      <td>1</td>\n",
       "      <td>22.705</td>\n",
       "      <td>0</td>\n",
       "      <td>0</td>\n",
       "      <td>1</td>\n",
       "      <td>21984.47061</td>\n",
       "    </tr>\n",
       "    <tr>\n",
       "      <th>4</th>\n",
       "      <td>32</td>\n",
       "      <td>1</td>\n",
       "      <td>28.880</td>\n",
       "      <td>0</td>\n",
       "      <td>0</td>\n",
       "      <td>1</td>\n",
       "      <td>3866.85520</td>\n",
       "    </tr>\n",
       "  </tbody>\n",
       "</table>\n",
       "</div>"
      ],
      "text/plain": [
       "   age  sex     bmi  children  smoker  region      charges\n",
       "0   19    0  27.900         0       1       3  16884.92400\n",
       "1   18    1  33.770         1       0       2   1725.55230\n",
       "2   28    1  33.000         3       0       2   4449.46200\n",
       "3   33    1  22.705         0       0       1  21984.47061\n",
       "4   32    1  28.880         0       0       1   3866.85520"
      ]
     },
     "execution_count": 15,
     "metadata": {},
     "output_type": "execute_result"
    }
   ],
   "source": [
    "insurance.head()"
   ]
  },
  {
   "cell_type": "markdown",
   "metadata": {},
   "source": [
    "### Plotting correlation between different variables"
   ]
  },
  {
   "cell_type": "code",
   "execution_count": 16,
   "metadata": {},
   "outputs": [
    {
     "data": {
      "text/plain": [
       "[Text(0.5, 0, 'age'),\n",
       " Text(1.5, 0, 'sex'),\n",
       " Text(2.5, 0, 'bmi'),\n",
       " Text(3.5, 0, 'children'),\n",
       " Text(4.5, 0, 'smoker'),\n",
       " Text(5.5, 0, 'region'),\n",
       " Text(6.5, 0, 'charges')]"
      ]
     },
     "execution_count": 16,
     "metadata": {},
     "output_type": "execute_result"
    },
    {
     "data": {
      "image/png": "[encoded data removed]",
      "text/plain": [
       "<Figure size 648x360 with 2 Axes>"
      ]
     },
     "metadata": {},
     "output_type": "display_data"
    }
   ],
   "source": [
    "# Plotting the correlation matrix\n",
    "corr = insurance.corr()\n",
    "ax = sns.heatmap(corr, vmin=-1, vmax=1, center=0, cmap=sns.diverging_palette(20, 220, n=200), square=True)\n",
    "ax.set_xticklabels(ax.get_xticklabels(), rotation=90, horizontalalignment='right')"
   ]
  },
  {
   "cell_type": "markdown",
   "metadata": {},
   "source": [
    "smoker shows high correlation with charges followed by age and then followed by bmi."
   ]
  },
  {
   "cell_type": "markdown",
   "metadata": {},
   "source": [
    "### Distribution of Smoker depending upon Sex of the patient"
   ]
  },
  {
   "cell_type": "code",
   "execution_count": 17,
   "metadata": {},
   "outputs": [
    {
     "data": {
      "text/plain": [
       "<seaborn.axisgrid.FacetGrid at 0x2eb7e6a35c8>"
      ]
     },
     "execution_count": 17,
     "metadata": {},
     "output_type": "execute_result"
    },
    {
     "data": {
      "image/png": "[encoded data removed]",
      "text/plain": [
       "<Figure size 418.275x360 with 1 Axes>"
      ]
     },
     "metadata": {},
     "output_type": "display_data"
    }
   ],
   "source": [
    "sns.catplot(x=\"smoker\", kind=\"count\",hue = 'sex', data=insurance)"
   ]
  },
  {
   "cell_type": "markdown",
   "metadata": {},
   "source": [
    "### Distribution of Smoker depending upon the Age of the patient"
   ]
  },
  {
   "cell_type": "code",
   "execution_count": 18,
   "metadata": {},
   "outputs": [
    {
     "data": {
      "text/plain": [
       "<seaborn.axisgrid.FacetGrid at 0x2eb7e79e888>"
      ]
     },
     "execution_count": 18,
     "metadata": {},
     "output_type": "execute_result"
    },
    {
     "data": {
      "image/png": "[encoded data removed]",
      "text/plain": [
       "<Figure size 418.275x360 with 1 Axes>"
      ]
     },
     "metadata": {},
     "output_type": "display_data"
    }
   ],
   "source": [
    "sns.catplot(x=\"age\", kind=\"count\",hue = 'smoker', data=insurance)"
   ]
  },
  {
   "cell_type": "markdown",
   "metadata": {},
   "source": [
    "#### The above doesn't seem to be providing much information. So we will group the age column into age groups and then see the distribution"
   ]
  },
  {
   "cell_type": "code",
   "execution_count": 19,
   "metadata": {},
   "outputs": [],
   "source": [
    "# Creating age groups\n",
    "bins = (0, 18, 25, 40, 60, np.inf)  # The edges\n",
    "labels = ('0-18', '19-25', '25-40', '41-60', '60 & above')\n",
    "groups = pd.cut(insurance.age, bins=bins, labels=labels)"
   ]
  },
  {
   "cell_type": "code",
   "execution_count": 20,
   "metadata": {},
   "outputs": [
    {
     "data": {
      "text/plain": [
       "41-60         546\n",
       "25-40         395\n",
       "19-25         237\n",
       "60 & above     91\n",
       "0-18           69\n",
       "Name: age, dtype: int64"
      ]
     },
     "execution_count": 20,
     "metadata": {},
     "output_type": "execute_result"
    }
   ],
   "source": [
    "groups.value_counts()"
   ]
  },
  {
   "cell_type": "code",
   "execution_count": 21,
   "metadata": {},
   "outputs": [
    {
     "data": {
      "text/html": [
       "<div>\n",
       "<style scoped>\n",
       "    .dataframe tbody tr th:only-of-type {\n",
       "        vertical-align: middle;\n",
       "    }\n",
       "\n",
       "    .dataframe tbody tr th {\n",
       "        vertical-align: top;\n",
       "    }\n",
       "\n",
       "    .dataframe thead th {\n",
       "        text-align: right;\n",
       "    }\n",
       "</style>\n",
       "<table border=\"1\" class=\"dataframe\">\n",
       "  <thead>\n",
       "    <tr style=\"text-align: right;\">\n",
       "      <th></th>\n",
       "      <th>Age</th>\n",
       "      <th>Age_Group</th>\n",
       "      <th>Smoker</th>\n",
       "    </tr>\n",
       "  </thead>\n",
       "  <tbody>\n",
       "    <tr>\n",
       "      <th>0</th>\n",
       "      <td>19</td>\n",
       "      <td>19-25</td>\n",
       "      <td>1</td>\n",
       "    </tr>\n",
       "    <tr>\n",
       "      <th>1</th>\n",
       "      <td>18</td>\n",
       "      <td>0-18</td>\n",
       "      <td>0</td>\n",
       "    </tr>\n",
       "    <tr>\n",
       "      <th>2</th>\n",
       "      <td>28</td>\n",
       "      <td>25-40</td>\n",
       "      <td>0</td>\n",
       "    </tr>\n",
       "    <tr>\n",
       "      <th>3</th>\n",
       "      <td>33</td>\n",
       "      <td>25-40</td>\n",
       "      <td>0</td>\n",
       "    </tr>\n",
       "    <tr>\n",
       "      <th>4</th>\n",
       "      <td>32</td>\n",
       "      <td>25-40</td>\n",
       "      <td>0</td>\n",
       "    </tr>\n",
       "  </tbody>\n",
       "</table>\n",
       "</div>"
      ],
      "text/plain": [
       "   Age Age_Group  Smoker\n",
       "0   19     19-25       1\n",
       "1   18      0-18       0\n",
       "2   28     25-40       0\n",
       "3   33     25-40       0\n",
       "4   32     25-40       0"
      ]
     },
     "execution_count": 21,
     "metadata": {},
     "output_type": "execute_result"
    }
   ],
   "source": [
    "# Creating a dataframe of Age, Age_Group and Smoker\n",
    "d = {'Age': insurance.age, 'Age_Group': groups, 'Smoker': insurance.smoker}\n",
    "age_smoke = pd.DataFrame(data=d)\n",
    "age_smoke.head()"
   ]
  },
  {
   "cell_type": "markdown",
   "metadata": {},
   "source": [
    "### Distribution of Smoker depending upon the Age Group of the pateint"
   ]
  },
  {
   "cell_type": "code",
   "execution_count": 22,
   "metadata": {},
   "outputs": [
    {
     "data": {
      "text/plain": [
       "<seaborn.axisgrid.FacetGrid at 0x2eb7e993908>"
      ]
     },
     "execution_count": 22,
     "metadata": {},
     "output_type": "execute_result"
    },
    {
     "data": {
      "image/png": "[encoded data removed]",
      "text/plain": [
       "<Figure size 419.2x360 with 1 Axes>"
      ]
     },
     "metadata": {},
     "output_type": "display_data"
    }
   ],
   "source": [
    "sns.catplot(x=\"Age_Group\", kind=\"count\",hue = 'Smoker', data=age_smoke)"
   ]
  },
  {
   "cell_type": "markdown",
   "metadata": {},
   "source": [
    "Most of the smokers are in the age between 19 and 60 which makes sense."
   ]
  },
  {
   "cell_type": "code",
   "execution_count": 23,
   "metadata": {},
   "outputs": [
    {
     "name": "stderr",
     "output_type": "stream",
     "text": [
      "C:\\Program Files (x86)\\Anaconda\\lib\\site-packages\\seaborn\\regression.py:574: UserWarning: The `size` parameter has been renamed to `height`; please update your code.\n",
      "  warnings.warn(msg, UserWarning)\n"
     ]
    },
    {
     "data": {
      "text/plain": [
       "<seaborn.axisgrid.FacetGrid at 0x2eb7e95de08>"
      ]
     },
     "execution_count": 23,
     "metadata": {},
     "output_type": "execute_result"
    },
    {
     "data": {
      "image/png": "[encoded data removed]",
      "text/plain": [
       "<Figure size 634.275x576 with 1 Axes>"
      ]
     },
     "metadata": {},
     "output_type": "display_data"
    }
   ],
   "source": [
    "sns.lmplot(x=\"age\", y=\"charges\", hue=\"smoker\", data=insurance, size=8)"
   ]
  },
  {
   "cell_type": "markdown",
   "metadata": {},
   "source": [
    "As the age increases, the insurance charges also increase. But for Smokers it is very high. So, it is good not to smoke if you want to save your money."
   ]
  },
  {
   "cell_type": "markdown",
   "metadata": {},
   "source": [
    "## Modeling"
   ]
  },
  {
   "cell_type": "code",
   "execution_count": 24,
   "metadata": {},
   "outputs": [],
   "source": [
    "X = insurance.drop(['charges'], axis = 1)\n",
    "y = insurance.charges\n",
    "\n",
    "# Splitting the data into train and test\n",
    "X_train, X_test, y_train, y_test = train_test_split(X,y, test_size=0.25, random_state=0)"
   ]
  },
  {
   "cell_type": "markdown",
   "metadata": {},
   "source": [
    "### Linear Regression:"
   ]
  },
  {
   "cell_type": "code",
   "execution_count": 25,
   "metadata": {},
   "outputs": [
    {
     "name": "stdout",
     "output_type": "stream",
     "text": [
      "79.63\n",
      "3998.2715408869753\n",
      "32073628.56010921\n"
     ]
    }
   ],
   "source": [
    "lr = LinearRegression().fit(X_train,y_train)\n",
    "y_train_pred = lr.predict(X_train)\n",
    "y_test_pred = lr.predict(X_test)\n",
    "\n",
    "print(round(lr.score(X_test,y_test)*100,2))\n",
    "print(mean_absolute_error(y_test,y_test_pred))\n",
    "print(mean_squared_error(y_test, y_test_pred))"
   ]
  },
  {
   "cell_type": "code",
   "execution_count": 26,
   "metadata": {},
   "outputs": [
    {
     "data": {
      "text/plain": [
       "array([10947.91401491,  9764.82733066, 38027.18625354, 16076.26656375,\n",
       "        7003.05093861,  4162.38974052,  1745.17453352, 14273.5330135 ,\n",
       "        9022.7490154 ,  7548.70107263,  4742.33662827, 10290.75344147,\n",
       "        8592.56051588,  4173.37165612, 27970.0324915 , 11026.04778351,\n",
       "       11286.00941429,  6197.06911697,  8269.51468144, 27263.01056172,\n",
       "       33686.9512703 , 14247.8812616 , 11735.79293452, 32419.5578177 ,\n",
       "        4475.57228648,  9264.65728706,  1336.5408973 , 10083.42064465,\n",
       "        4134.01766875, 10422.0367284 ,  9033.04363126, 40177.36502272,\n",
       "       15327.89185262, 13541.84076855, 24979.41529438,  5273.0794857 ,\n",
       "       12809.44891047, 30538.99654744, 33503.98483751,  3477.84775709,\n",
       "        4169.03343497,  4346.93367013, 30642.90398321, 39366.95813634,\n",
       "       28066.36347631,  5110.98142166, 10919.49675465,  7870.63024919,\n",
       "        3790.77872548, 10529.86942143,  5758.50260778,  3526.36470247,\n",
       "       32837.53966438, 38431.60954739, 16119.53210068,  7198.88399648,\n",
       "        6010.47765564,  9455.45703492,  9323.82247057, 11736.15685931,\n",
       "        1745.70435635, 38856.13381995, 15133.33969997, 11575.03834933,\n",
       "       14071.5724629 , 13696.5272597 , 26189.53137674, 32224.3994756 ,\n",
       "        1285.84165993, 10192.3389615 , 12103.18984314, 11812.13268915,\n",
       "       25146.32331141, 15738.43743924, 11190.33714978, 12666.511048  ,\n",
       "        6443.77417808,  9893.21714388, 30312.26136507, 38774.44771196,\n",
       "       12063.1199766 , 37348.74819938,  4280.83232304,  9194.1511214 ,\n",
       "       34855.84194627, 29249.62417709,  8369.44588068,  4945.57095651,\n",
       "       11829.89576319, 30234.75411865, 10099.95369361, 11152.51466685,\n",
       "        8345.39483062,  9216.66152856,  8456.71908548,  7389.90572249,\n",
       "       36031.82502924, 32995.87707694,  7647.03076484, 14761.02404168,\n",
       "        4335.42273688,  8790.6336137 ,  6626.82252505, 31798.31619795,\n",
       "       33017.1906077 ,  2094.40570673,  8884.5733591 ,  6639.27260791,\n",
       "       14530.96799671, 36943.676041  , 10209.36205958, 10754.28354013,\n",
       "       10198.39675302, 27099.34704068, 39995.94299687,  8600.67413204,\n",
       "         283.08058982,  8834.31659717, 14929.5620573 ,  9589.03267786,\n",
       "       35399.75956117,  7345.60983793, 16567.9444266 ,  9694.5508457 ,\n",
       "        8068.18149856,  3097.01655573, 33001.67961343, 31570.2503123 ,\n",
       "       39236.13757102,  5563.9838186 ,  9605.43014551,  3923.56950664,\n",
       "        7936.19344017,  8758.93978756, 31529.93069335, 29783.93576815,\n",
       "       30140.52767905,  9084.18593446, 32774.6651671 ,  3447.8282725 ,\n",
       "        3714.75872713, 11106.90396946, 13347.95952139, 12853.99458907,\n",
       "        5528.91820808, 15704.83891849, 15079.88363053,  2544.67843054,\n",
       "         185.77752153, 10942.26089435,  7512.81091318, 32029.66886541,\n",
       "       12399.16046026,  2715.99117956,  6398.9448798 ,  8153.13247564,\n",
       "        4485.58951977,  2502.88912184, 11354.3765072 , 12473.86448172,\n",
       "        7378.57534425, 16486.02707379, 11773.13898945, 13764.75456224,\n",
       "        3381.59967736,  7414.52171201, 23083.99616223,  7702.25146492,\n",
       "        5640.00381695,  5423.20666932,  6771.22658553,  5369.21237435,\n",
       "        9978.65825664,  5651.47058169,  5617.05819013,  6992.25772557,\n",
       "        3927.54466569,  5677.34987188, 38108.35355982,  1687.47789286,\n",
       "       12570.90785396,  8990.57884784, 13663.12241126,  5692.74305794,\n",
       "        5400.09622194, 36497.28911925,  4499.38119881,  1950.64760943,\n",
       "       15075.82279197, 12681.99346283, 35147.22262059,  5131.27114327,\n",
       "        5547.26999983, 31572.7189971 ,  6167.37488999,  2062.03461108,\n",
       "        8544.26381135, 10074.42722051,  8266.17437786,  5850.88787567,\n",
       "       13147.1222075 , 38635.78272386, 13659.93211399, 28800.64409693,\n",
       "        6812.19498243, 35711.06603231,  3973.45030397, 12098.25000178,\n",
       "        9304.02766868,  6456.8508697 , 11306.30379171, 14517.23252599,\n",
       "        5259.7484308 ,  4261.74861629,  7739.96622866,  1287.11803755,\n",
       "        8007.7029553 ,  4603.7389562 , 13174.33476059,  4491.67379326,\n",
       "        9853.36083563,  7375.34455594,  9072.2189463 ,  2578.72399596,\n",
       "       12933.69851212, 16674.51032722, 15098.07149349, 10382.93145759,\n",
       "        5750.15941467,  2634.44325287,  2301.36074417, 13447.00625685,\n",
       "       14203.53207008,  5171.47470846,  4159.8794872 ,  9287.91215283,\n",
       "       10048.86025637, 28387.85591072,  7761.85208288, 10586.09180311,\n",
       "        6147.09690682, 29867.2455107 , 10866.38256904,  7609.85428543,\n",
       "       10248.41393685, 12190.90620035,  3216.69032739, 10786.13583408,\n",
       "        1735.08998421,  7194.492167  , 28788.15185516, 38398.20353488,\n",
       "        6171.96169948,  8372.97420985,  2665.38796458,   675.24311869,\n",
       "       10324.23779113,  4464.24740958,  5084.62925272,  2765.12366764,\n",
       "        7255.30324083, 33205.81109315, 38215.02085724, 14677.52426265,\n",
       "        8294.91587575, 16028.83595951, 33133.59667833,  9623.53886742,\n",
       "       33401.64850545,  3686.52411934, 30843.71540422,  8001.71986381,\n",
       "       14179.94621339,  4211.35722232, 32497.0827103 ,  8443.10889356,\n",
       "       11460.8623175 ,  9434.21047718,  4321.92599873, 12464.24068476,\n",
       "       11701.49681152,  8483.560458  , 13344.98515219,  2972.12577494,\n",
       "       10675.86128124,  5389.8245388 , 11159.3820939 , 31723.46535925,\n",
       "       10047.84307228,  1472.76142561,   717.98703914, 39821.97375226,\n",
       "        9812.26823742,  7166.20953879, 13905.32236228, 13428.33354475,\n",
       "       27218.10087176,  7033.74308314,  6785.64013095, 11933.98289128,\n",
       "        3038.43915783,  4022.38383321, 25307.2029606 , 26414.33042405,\n",
       "       13250.32827696,  3471.9145674 ,  5176.44334405,  9222.66486622,\n",
       "       12506.28838182, 23844.27532952, 30900.61492849,  9893.41699449,\n",
       "       24249.49669032,  3004.11445538, 11542.47299099,  7624.09099954,\n",
       "        8366.614262  ,   502.36290308,  7920.24301719, 35599.63593964,\n",
       "        6316.23859849,  6413.28197074,   427.51684841, 10843.82978818,\n",
       "        6793.9564125 ,  9939.5724268 , 38715.2046951 , 27842.86075012,\n",
       "       11591.34753748, 35624.43529894, 14993.0317229 ,  6934.89010657,\n",
       "       10983.73053465,  6810.5049236 , 36668.7011676 ])"
      ]
     },
     "execution_count": 26,
     "metadata": {},
     "output_type": "execute_result"
    }
   ],
   "source": [
    "y_test_pred"
   ]
  },
  {
   "cell_type": "code",
   "execution_count": 27,
   "metadata": {},
   "outputs": [
    {
     "data": {
      "text/plain": [
       "<matplotlib.axes._subplots.AxesSubplot at 0x2eb7fd397c8>"
      ]
     },
     "execution_count": 27,
     "metadata": {},
     "output_type": "execute_result"
    },
    {
     "data": {
      "image/png": "[encoded data removed]",
      "text/plain": [
       "<Figure size 648x360 with 1 Axes>"
      ]
     },
     "metadata": {},
     "output_type": "display_data"
    }
   ],
   "source": [
    "sns.distplot(y_test-y_test_pred)"
   ]
  },
  {
   "cell_type": "markdown",
   "metadata": {},
   "source": [
    "#### Setting Hyperparameters for Decision Trees, Random Forest and XGBoost:"
   ]
  },
  {
   "cell_type": "code",
   "execution_count": 28,
   "metadata": {},
   "outputs": [],
   "source": [
    "# Let's set number of trees:\n",
    "n_estimators = [int(x) for x in np.linspace(start=100, stop=1000, num=10)]\n",
    "# Maximum features to be considered at every split:\n",
    "max_features = ['auto', 'sqrt', 'log2']\n",
    "# Maximum number of levels in each tree:\n",
    "max_depth = [int(x) for x in np.linspace(start=5, stop=30, num=6)]\n",
    "# Minimum number of samples to consider to split a node:\n",
    "min_samples_split = [2, 5, 10, 15, 100]\n",
    "# Minimum number of samples to consider at each leaf node:\n",
    "min_samples_leaf = [1, 2, 5, 10]"
   ]
  },
  {
   "cell_type": "code",
   "execution_count": 29,
   "metadata": {},
   "outputs": [],
   "source": [
    "from sklearn.model_selection import RandomizedSearchCV\n",
    "# You can use GridSearchCV as well but RandomizedSearchCV is faster comparitively."
   ]
  },
  {
   "cell_type": "markdown",
   "metadata": {},
   "source": [
    "Let's create a parameter grid which we will further use in our Decision Trees, Random Forest and XGBoost model."
   ]
  },
  {
   "cell_type": "code",
   "execution_count": 30,
   "metadata": {},
   "outputs": [
    {
     "name": "stdout",
     "output_type": "stream",
     "text": [
      "{'max_features': ['auto', 'sqrt', 'log2'], 'max_depth': [5, 10, 15, 20, 25, 30], 'min_samples_split': [2, 5, 10, 15, 100], 'min_samples_leaf': [1, 2, 5, 10]}\n"
     ]
    }
   ],
   "source": [
    "# Parameter grid for Decision Trees\n",
    "tree_param_grid = { \n",
    "    'max_features': max_features,\n",
    "    'max_depth': max_depth,\n",
    "    'min_samples_split': min_samples_split,\n",
    "    'min_samples_leaf': min_samples_leaf\n",
    "}\n",
    "\n",
    "print(tree_param_grid)"
   ]
  },
  {
   "cell_type": "code",
   "execution_count": 31,
   "metadata": {},
   "outputs": [
    {
     "name": "stdout",
     "output_type": "stream",
     "text": [
      "{'n_estimators': [100, 200, 300, 400, 500, 600, 700, 800, 900, 1000], 'max_features': ['auto', 'sqrt', 'log2'], 'max_depth': [5, 10, 15, 20, 25, 30], 'min_samples_split': [2, 5, 10, 15, 100], 'min_samples_leaf': [1, 2, 5, 10]}\n"
     ]
    }
   ],
   "source": [
    "# Parameter grid for Random Forest and XGBoost\n",
    "param_grid = { \n",
    "    'n_estimators': n_estimators,\n",
    "    'max_features': max_features,\n",
    "    'max_depth': max_depth,\n",
    "    'min_samples_split': min_samples_split,\n",
    "    'min_samples_leaf': min_samples_leaf\n",
    "}\n",
    "\n",
    "print(param_grid)"
   ]
  },
  {
   "cell_type": "markdown",
   "metadata": {},
   "source": [
    "### Decision Trees:"
   ]
  },
  {
   "cell_type": "code",
   "execution_count": 32,
   "metadata": {},
   "outputs": [],
   "source": [
    "tree = DecisionTreeRegressor()"
   ]
  },
  {
   "cell_type": "code",
   "execution_count": 33,
   "metadata": {},
   "outputs": [
    {
     "data": {
      "text/plain": [
       "<bound method BaseEstimator.get_params of DecisionTreeRegressor(ccp_alpha=0.0, criterion='mse', max_depth=None,\n",
       "                      max_features=None, max_leaf_nodes=None,\n",
       "                      min_impurity_decrease=0.0, min_impurity_split=None,\n",
       "                      min_samples_leaf=1, min_samples_split=2,\n",
       "                      min_weight_fraction_leaf=0.0, presort='deprecated',\n",
       "                      random_state=None, splitter='best')>"
      ]
     },
     "execution_count": 33,
     "metadata": {},
     "output_type": "execute_result"
    }
   ],
   "source": [
    "tree.get_params"
   ]
  },
  {
   "cell_type": "code",
   "execution_count": 34,
   "metadata": {},
   "outputs": [],
   "source": [
    "tree_rand = RandomizedSearchCV(estimator=tree, param_distributions=tree_param_grid, n_jobs=1, n_iter=10, cv=5, verbose=2, \n",
    "                               random_state=0)\n",
    "# , scoring='neg_mean_squared_error'"
   ]
  },
  {
   "cell_type": "code",
   "execution_count": 35,
   "metadata": {},
   "outputs": [
    {
     "name": "stdout",
     "output_type": "stream",
     "text": [
      "Fitting 5 folds for each of 10 candidates, totalling 50 fits\n",
      "[CV] min_samples_split=5, min_samples_leaf=2, max_features=auto, max_depth=5 \n",
      "[CV]  min_samples_split=5, min_samples_leaf=2, max_features=auto, max_depth=5, total=   0.0s\n",
      "[CV] min_samples_split=5, min_samples_leaf=2, max_features=auto, max_depth=5 \n",
      "[CV]  min_samples_split=5, min_samples_leaf=2, max_features=auto, max_depth=5, total=   0.0s\n",
      "[CV] min_samples_split=5, min_samples_leaf=2, max_features=auto, max_depth=5 \n",
      "[CV]  min_samples_split=5, min_samples_leaf=2, max_features=auto, max_depth=5, total=   0.0s\n",
      "[CV] min_samples_split=5, min_samples_leaf=2, max_features=auto, max_depth=5 \n",
      "[CV]  min_samples_split=5, min_samples_leaf=2, max_features=auto, max_depth=5, total=   0.0s\n",
      "[CV] min_samples_split=5, min_samples_leaf=2, max_features=auto, max_depth=5 \n",
      "[CV]  min_samples_split=5, min_samples_leaf=2, max_features=auto, max_depth=5, total=   0.0s\n",
      "[CV] min_samples_split=15, min_samples_leaf=1, max_features=log2, max_depth=20 \n",
      "[CV]  min_samples_split=15, min_samples_leaf=1, max_features=log2, max_depth=20, total=   0.0s\n",
      "[CV] min_samples_split=15, min_samples_leaf=1, max_features=log2, max_depth=20 \n",
      "[CV]  min_samples_split=15, min_samples_leaf=1, max_features=log2, max_depth=20, total=   0.0s\n",
      "[CV] min_samples_split=15, min_samples_leaf=1, max_features=log2, max_depth=20 \n",
      "[CV]  min_samples_split=15, min_samples_leaf=1, max_features=log2, max_depth=20, total=   0.0s\n",
      "[CV] min_samples_split=15, min_samples_leaf=1, max_features=log2, max_depth=20 \n",
      "[CV]  min_samples_split=15, min_samples_leaf=1, max_features=log2, max_depth=20, total=   0.0s\n",
      "[CV] min_samples_split=15, min_samples_leaf=1, max_features=log2, max_depth=20 \n",
      "[CV]  min_samples_split=15, min_samples_leaf=1, max_features=log2, max_depth=20, total=   0.0s\n",
      "[CV] min_samples_split=5, min_samples_leaf=2, max_features=log2, max_depth=10 \n",
      "[CV]  min_samples_split=5, min_samples_leaf=2, max_features=log2, max_depth=10, total=   0.0s\n",
      "[CV] min_samples_split=5, min_samples_leaf=2, max_features=log2, max_depth=10 \n",
      "[CV]  min_samples_split=5, min_samples_leaf=2, max_features=log2, max_depth=10, total=   0.0s\n",
      "[CV] min_samples_split=5, min_samples_leaf=2, max_features=log2, max_depth=10 \n",
      "[CV]  min_samples_split=5, min_samples_leaf=2, max_features=log2, max_depth=10, total=   0.0s\n",
      "[CV] min_samples_split=5, min_samples_leaf=2, max_features=log2, max_depth=10 \n",
      "[CV]  min_samples_split=5, min_samples_leaf=2, max_features=log2, max_depth=10, total=   0.0s\n",
      "[CV] min_samples_split=5, min_samples_leaf=2, max_features=log2, max_depth=10 \n",
      "[CV]  min_samples_split=5, min_samples_leaf=2, max_features=log2, max_depth=10, total=   0.0s\n",
      "[CV] min_samples_split=5, min_samples_leaf=10, max_features=sqrt, max_depth=20 \n",
      "[CV]  min_samples_split=5, min_samples_leaf=10, max_features=sqrt, max_depth=20, total=   0.0s\n",
      "[CV] min_samples_split=5, min_samples_leaf=10, max_features=sqrt, max_depth=20 \n",
      "[CV]  min_samples_split=5, min_samples_leaf=10, max_features=sqrt, max_depth=20, total=   0.0s\n",
      "[CV] min_samples_split=5, min_samples_leaf=10, max_features=sqrt, max_depth=20 \n",
      "[CV]  min_samples_split=5, min_samples_leaf=10, max_features=sqrt, max_depth=20, total=   0.0s\n",
      "[CV] min_samples_split=5, min_samples_leaf=10, max_features=sqrt, max_depth=20 \n",
      "[CV]  min_samples_split=5, min_samples_leaf=10, max_features=sqrt, max_depth=20, total=   0.0s\n",
      "[CV] min_samples_split=5, min_samples_leaf=10, max_features=sqrt, max_depth=20 \n",
      "[CV]  min_samples_split=5, min_samples_leaf=10, max_features=sqrt, max_depth=20, total=   0.0s\n",
      "[CV] min_samples_split=2, min_samples_leaf=5, max_features=sqrt, max_depth=10 \n",
      "[CV]  min_samples_split=2, min_samples_leaf=5, max_features=sqrt, max_depth=10, total=   0.0s\n",
      "[CV] min_samples_split=2, min_samples_leaf=5, max_features=sqrt, max_depth=10 "
     ]
    },
    {
     "name": "stderr",
     "output_type": "stream",
     "text": [
      "[Parallel(n_jobs=1)]: Using backend SequentialBackend with 1 concurrent workers.\n",
      "[Parallel(n_jobs=1)]: Done   1 out of   1 | elapsed:    0.0s remaining:    0.0s\n"
     ]
    },
    {
     "name": "stdout",
     "output_type": "stream",
     "text": [
      "\n",
      "[CV]  min_samples_split=2, min_samples_leaf=5, max_features=sqrt, max_depth=10, total=   0.0s\n",
      "[CV] min_samples_split=2, min_samples_leaf=5, max_features=sqrt, max_depth=10 \n",
      "[CV]  min_samples_split=2, min_samples_leaf=5, max_features=sqrt, max_depth=10, total=   0.0s\n",
      "[CV] min_samples_split=2, min_samples_leaf=5, max_features=sqrt, max_depth=10 \n",
      "[CV]  min_samples_split=2, min_samples_leaf=5, max_features=sqrt, max_depth=10, total=   0.0s\n",
      "[CV] min_samples_split=2, min_samples_leaf=5, max_features=sqrt, max_depth=10 \n",
      "[CV]  min_samples_split=2, min_samples_leaf=5, max_features=sqrt, max_depth=10, total=   0.0s\n",
      "[CV] min_samples_split=5, min_samples_leaf=10, max_features=log2, max_depth=10 \n",
      "[CV]  min_samples_split=5, min_samples_leaf=10, max_features=log2, max_depth=10, total=   0.0s\n",
      "[CV] min_samples_split=5, min_samples_leaf=10, max_features=log2, max_depth=10 \n",
      "[CV]  min_samples_split=5, min_samples_leaf=10, max_features=log2, max_depth=10, total=   0.0s\n",
      "[CV] min_samples_split=5, min_samples_leaf=10, max_features=log2, max_depth=10 \n",
      "[CV]  min_samples_split=5, min_samples_leaf=10, max_features=log2, max_depth=10, total=   0.0s\n",
      "[CV] min_samples_split=5, min_samples_leaf=10, max_features=log2, max_depth=10 \n",
      "[CV]  min_samples_split=5, min_samples_leaf=10, max_features=log2, max_depth=10, total=   0.0s\n",
      "[CV] min_samples_split=5, min_samples_leaf=10, max_features=log2, max_depth=10 \n",
      "[CV]  min_samples_split=5, min_samples_leaf=10, max_features=log2, max_depth=10, total=   0.0s\n",
      "[CV] min_samples_split=10, min_samples_leaf=5, max_features=log2, max_depth=20 \n",
      "[CV]  min_samples_split=10, min_samples_leaf=5, max_features=log2, max_depth=20, total=   0.0s\n",
      "[CV] min_samples_split=10, min_samples_leaf=5, max_features=log2, max_depth=20 \n",
      "[CV]  min_samples_split=10, min_samples_leaf=5, max_features=log2, max_depth=20, total=   0.0s\n",
      "[CV] min_samples_split=10, min_samples_leaf=5, max_features=log2, max_depth=20 \n",
      "[CV]  min_samples_split=10, min_samples_leaf=5, max_features=log2, max_depth=20, total=   0.0s\n",
      "[CV] min_samples_split=10, min_samples_leaf=5, max_features=log2, max_depth=20 \n",
      "[CV]  min_samples_split=10, min_samples_leaf=5, max_features=log2, max_depth=20, total=   0.0s\n",
      "[CV] min_samples_split=10, min_samples_leaf=5, max_features=log2, max_depth=20 \n",
      "[CV]  min_samples_split=10, min_samples_leaf=5, max_features=log2, max_depth=20, total=   0.0s\n",
      "[CV] min_samples_split=2, min_samples_leaf=1, max_features=auto, max_depth=10 \n",
      "[CV]  min_samples_split=2, min_samples_leaf=1, max_features=auto, max_depth=10, total=   0.0s\n",
      "[CV] min_samples_split=2, min_samples_leaf=1, max_features=auto, max_depth=10 \n",
      "[CV]  min_samples_split=2, min_samples_leaf=1, max_features=auto, max_depth=10, total=   0.0s\n",
      "[CV] min_samples_split=2, min_samples_leaf=1, max_features=auto, max_depth=10 \n",
      "[CV]  min_samples_split=2, min_samples_leaf=1, max_features=auto, max_depth=10, total=   0.0s\n",
      "[CV] min_samples_split=2, min_samples_leaf=1, max_features=auto, max_depth=10 \n",
      "[CV]  min_samples_split=2, min_samples_leaf=1, max_features=auto, max_depth=10, total=   0.0s\n",
      "[CV] min_samples_split=2, min_samples_leaf=1, max_features=auto, max_depth=10 \n",
      "[CV]  min_samples_split=2, min_samples_leaf=1, max_features=auto, max_depth=10, total=   0.0s\n",
      "[CV] min_samples_split=10, min_samples_leaf=10, max_features=sqrt, max_depth=5 \n",
      "[CV]  min_samples_split=10, min_samples_leaf=10, max_features=sqrt, max_depth=5, total=   0.0s\n",
      "[CV] min_samples_split=10, min_samples_leaf=10, max_features=sqrt, max_depth=5 \n",
      "[CV]  min_samples_split=10, min_samples_leaf=10, max_features=sqrt, max_depth=5, total=   0.0s\n",
      "[CV] min_samples_split=10, min_samples_leaf=10, max_features=sqrt, max_depth=5 \n",
      "[CV]  min_samples_split=10, min_samples_leaf=10, max_features=sqrt, max_depth=5, total=   0.0s\n",
      "[CV] min_samples_split=10, min_samples_leaf=10, max_features=sqrt, max_depth=5 \n",
      "[CV]  min_samples_split=10, min_samples_leaf=10, max_features=sqrt, max_depth=5, total=   0.0s\n",
      "[CV] min_samples_split=10, min_samples_leaf=10, max_features=sqrt, max_depth=5 \n",
      "[CV]  min_samples_split=10, min_samples_leaf=10, max_features=sqrt, max_depth=5, total=   0.0s\n",
      "[CV] min_samples_split=2, min_samples_leaf=1, max_features=auto, max_depth=15 \n",
      "[CV]  min_samples_split=2, min_samples_leaf=1, max_features=auto, max_depth=15, total=   0.0s\n",
      "[CV] min_samples_split=2, min_samples_leaf=1, max_features=auto, max_depth=15 \n",
      "[CV]  min_samples_split=2, min_samples_leaf=1, max_features=auto, max_depth=15, total=   0.0s\n",
      "[CV] min_samples_split=2, min_samples_leaf=1, max_features=auto, max_depth=15 \n",
      "[CV]  min_samples_split=2, min_samples_leaf=1, max_features=auto, max_depth=15, total=   0.0s\n",
      "[CV] min_samples_split=2, min_samples_leaf=1, max_features=auto, max_depth=15 \n",
      "[CV]  min_samples_split=2, min_samples_leaf=1, max_features=auto, max_depth=15, total=   0.0s\n",
      "[CV] min_samples_split=2, min_samples_leaf=1, max_features=auto, max_depth=15 \n",
      "[CV]  min_samples_split=2, min_samples_leaf=1, max_features=auto, max_depth=15, total=   0.0s\n"
     ]
    },
    {
     "name": "stderr",
     "output_type": "stream",
     "text": [
      "[Parallel(n_jobs=1)]: Done  50 out of  50 | elapsed:    0.4s finished\n"
     ]
    },
    {
     "data": {
      "text/plain": [
       "RandomizedSearchCV(cv=5, error_score=nan,\n",
       "                   estimator=DecisionTreeRegressor(ccp_alpha=0.0,\n",
       "                                                   criterion='mse',\n",
       "                                                   max_depth=None,\n",
       "                                                   max_features=None,\n",
       "                                                   max_leaf_nodes=None,\n",
       "                                                   min_impurity_decrease=0.0,\n",
       "                                                   min_impurity_split=None,\n",
       "                                                   min_samples_leaf=1,\n",
       "                                                   min_samples_split=2,\n",
       "                                                   min_weight_fraction_leaf=0.0,\n",
       "                                                   presort='deprecated',\n",
       "                                                   random_state=None,\n",
       "                                                   splitter='best'),\n",
       "                   iid='deprecated', n_iter=10, n_jobs=1,\n",
       "                   param_distributions={'max_depth': [5, 10, 15, 20, 25, 30],\n",
       "                                        'max_features': ['auto', 'sqrt',\n",
       "                                                         'log2'],\n",
       "                                        'min_samples_leaf': [1, 2, 5, 10],\n",
       "                                        'min_samples_split': [2, 5, 10, 15,\n",
       "                                                              100]},\n",
       "                   pre_dispatch='2*n_jobs', random_state=0, refit=True,\n",
       "                   return_train_score=False, scoring=None, verbose=2)"
      ]
     },
     "execution_count": 35,
     "metadata": {},
     "output_type": "execute_result"
    }
   ],
   "source": [
    "tree_rand.fit(X_train,y_train)"
   ]
  },
  {
   "cell_type": "code",
   "execution_count": 36,
   "metadata": {},
   "outputs": [],
   "source": [
    "tree_pred = tree_rand.predict(X_test)"
   ]
  },
  {
   "cell_type": "code",
   "execution_count": 37,
   "metadata": {},
   "outputs": [
    {
     "data": {
      "text/plain": [
       "array([11766.53423988,  9748.97790831, 41870.05126825, 13563.60712206,\n",
       "       11345.42422859,  7084.42865772,  2932.55780661, 11345.42422859,\n",
       "        7084.42865772,  7084.42865772,  7084.42865772, 11345.42422859,\n",
       "        9748.97790831,  5148.30747506, 21781.75001625,  9748.97790831,\n",
       "       14577.98736286,  4381.90483896,  7084.42865772, 33705.2506    ,\n",
       "       24626.51984833, 14800.61554821, 11766.53423988, 30021.17661   ,\n",
       "        2932.55780661,  7084.42865772,  7084.42865772,  7469.83892137,\n",
       "        5148.30747506, 11345.42422859,  7084.42865772, 46538.79989182,\n",
       "       13563.60712206, 11766.53423988, 18884.30504342,  7084.42865772,\n",
       "        9748.97790831, 37994.74531   , 41870.05126825,  2932.55780661,\n",
       "        7084.42865772,  5148.30747506, 18884.30504342, 46538.79989182,\n",
       "       37994.74531   ,  8330.89141722,  9748.97790831,  7084.42865772,\n",
       "        7084.42865772, 11766.53423988,  4381.90483896,  8330.89141722,\n",
       "       30021.17661   , 46538.79989182, 11766.53423988,  7084.42865772,\n",
       "        4381.90483896, 11345.42422859,  9748.97790831, 16153.15800937,\n",
       "        2932.55780661, 46538.79989182, 16153.15800937,  9748.97790831,\n",
       "       11345.42422859,  9748.97790831, 33705.2506    , 41870.05126825,\n",
       "        3741.11187692,  7084.42865772, 14577.98736286, 11766.53423988,\n",
       "       18884.30504342, 13563.60712206, 14577.98736286, 14577.98736286,\n",
       "        9748.97790831,  9748.97790831, 18884.30504342, 46538.79989182,\n",
       "       11766.53423988, 41870.05126825,  2932.55780661,  9748.97790831,\n",
       "       41870.05126825, 18884.30504342,  4381.90483896,  4381.90483896,\n",
       "       16153.15800937, 37994.74531   ,  7084.42865772, 11766.53423988,\n",
       "        4381.90483896,  9748.97790831,  7084.42865772,  7084.42865772,\n",
       "       46538.79989182, 53268.374595  ,  7084.42865772, 11766.53423988,\n",
       "        4381.90483896,  7084.42865772,  5148.30747506, 41870.05126825,\n",
       "       26088.05619091,  7084.42865772, 11766.53423988,  7084.42865772,\n",
       "       11766.53423988, 46538.79989182, 14800.61554821,  5148.30747506,\n",
       "       11345.42422859, 35278.84760722, 46538.79989182,  7084.42865772,\n",
       "        2932.55780661,  9748.97790831, 21115.20416083, 11345.42422859,\n",
       "       41870.05126825, 11766.53423988, 13563.60712206,  7084.42865772,\n",
       "        9748.97790831,  7084.42865772, 26088.05619091, 24626.51984833,\n",
       "       46538.79989182,  2932.55780661,  9748.97790831,  2932.55780661,\n",
       "        7469.83892137, 11345.42422859, 53268.374595  , 41870.05126825,\n",
       "       20210.92435833,  9748.97790831, 24626.51984833,  4381.90483896,\n",
       "        2932.55780661, 11766.53423988,  9748.97790831, 11766.53423988,\n",
       "        7084.42865772, 13563.60712206, 21115.20416083,  8330.89141722,\n",
       "        2932.55780661, 11766.53423988,  7084.42865772, 37994.74531   ,\n",
       "       11345.42422859,  2932.55780661,  2932.55780661,  7469.83892137,\n",
       "        2932.55780661,  2932.55780661, 11345.42422859, 11345.42422859,\n",
       "        7084.42865772, 13563.60712206, 14577.98736286,  9748.97790831,\n",
       "        7084.42865772,  8330.89141722, 13288.663725  ,  7084.42865772,\n",
       "        7084.42865772,  2932.55780661,  7084.42865772,  7084.42865772,\n",
       "       11345.42422859,  4381.90483896,  5148.30747506,  3741.11187692,\n",
       "        7084.42865772,  7084.42865772, 26088.05619091,  2932.55780661,\n",
       "       14800.61554821,  7084.42865772, 11766.53423988,  5148.30747506,\n",
       "        7084.42865772, 26088.05619091,  2932.55780661,  2932.55780661,\n",
       "       13563.60712206, 11345.42422859, 41870.05126825,  3741.11187692,\n",
       "        5148.30747506, 24626.51984833,  4381.90483896,  4381.90483896,\n",
       "        7084.42865772,  7084.42865772,  5148.30747506,  7084.42865772,\n",
       "       11766.53423988, 46538.79989182, 14800.61554821, 18884.30504342,\n",
       "        7084.42865772, 41870.05126825,  8330.89141722, 11766.53423988,\n",
       "        5148.30747506,  2932.55780661, 11345.42422859, 13563.60712206,\n",
       "        7084.42865772,  4381.90483896,  7469.83892137,  4381.90483896,\n",
       "        7084.42865772,  7084.42865772, 16153.15800937,  7084.42865772,\n",
       "        5148.30747506,  7084.42865772,  9748.97790831,  4381.90483896,\n",
       "       11766.53423988, 13563.60712206, 14800.61554821, 11766.53423988,\n",
       "        7469.83892137,  4381.90483896,  2932.55780661, 11345.42422859,\n",
       "       13563.60712206,  8330.89141722,  5148.30747506,  7469.83892137,\n",
       "       11345.42422859, 35278.84760722,  7084.42865772, 14800.61554821,\n",
       "        7469.83892137, 37994.74531   ,  7469.83892137, 11345.42422859,\n",
       "       11345.42422859, 11766.53423988,  8330.89141722, 11345.42422859,\n",
       "        2932.55780661,  7084.42865772, 18884.30504342, 46538.79989182,\n",
       "        3741.11187692,  4381.90483896,  2932.55780661,  2932.55780661,\n",
       "        9748.97790831,  2932.55780661,  8330.89141722,  5148.30747506,\n",
       "        9748.97790831, 30021.17661   , 46538.79989182, 16153.15800937,\n",
       "        7084.42865772, 11766.53423988, 37994.74531   , 11345.42422859,\n",
       "       41870.05126825,  2932.55780661, 37994.74531   ,  5148.30747506,\n",
       "       11766.53423988,  8330.89141722, 41870.05126825,  7084.42865772,\n",
       "       11766.53423988,  9748.97790831,  2932.55780661, 16153.15800937,\n",
       "       11766.53423988,  7084.42865772, 13563.60712206,  2932.55780661,\n",
       "        7084.42865772,  3741.11187692,  7469.83892137, 20210.92435833,\n",
       "        4381.90483896,  2932.55780661,  8330.89141722, 46538.79989182,\n",
       "       11345.42422859,  7084.42865772, 14800.61554821, 11766.53423988,\n",
       "       35278.84760722,  7469.83892137,  5148.30747506,  9748.97790831,\n",
       "        2932.55780661,  3741.11187692, 18884.30504342, 18884.30504342,\n",
       "       13563.60712206,  4381.90483896,  4381.90483896,  9748.97790831,\n",
       "       11766.53423988, 13288.663725  , 18884.30504342,  5148.30747506,\n",
       "       18884.30504342,  2932.55780661,  7469.83892137,  5148.30747506,\n",
       "       11345.42422859,  3741.11187692, 11345.42422859, 41870.05126825,\n",
       "        8330.89141722,  7084.42865772,  2932.55780661,  9748.97790831,\n",
       "        5148.30747506, 11766.53423988, 46538.79989182, 18884.30504342,\n",
       "       11345.42422859, 41870.05126825, 14800.61554821,  7084.42865772,\n",
       "        9748.97790831,  3741.11187692, 26088.05619091])"
      ]
     },
     "execution_count": 37,
     "metadata": {},
     "output_type": "execute_result"
    }
   ],
   "source": [
    "tree_pred"
   ]
  },
  {
   "cell_type": "code",
   "execution_count": 38,
   "metadata": {},
   "outputs": [
    {
     "data": {
      "text/plain": [
       "<matplotlib.axes._subplots.AxesSubplot at 0x2eb7fdfd308>"
      ]
     },
     "execution_count": 38,
     "metadata": {},
     "output_type": "execute_result"
    },
    {
     "data": {
      "image/png": "[encoded data removed]",
      "text/plain": [
       "<Figure size 648x360 with 1 Axes>"
      ]
     },
     "metadata": {},
     "output_type": "display_data"
    }
   ],
   "source": [
    "sns.distplot(y_test-tree_pred)"
   ]
  },
  {
   "cell_type": "code",
   "execution_count": 39,
   "metadata": {},
   "outputs": [
    {
     "name": "stdout",
     "output_type": "stream",
     "text": [
      "18210684.57900789\n",
      "88.43\n"
     ]
    }
   ],
   "source": [
    "print(mean_squared_error(y_test, tree_pred))\n",
    "print(round(tree_rand.score(X_test,y_test)*100,2))"
   ]
  },
  {
   "cell_type": "markdown",
   "metadata": {},
   "source": [
    "### Random Forest:"
   ]
  },
  {
   "cell_type": "code",
   "execution_count": 40,
   "metadata": {},
   "outputs": [],
   "source": [
    "rf = RandomForestRegressor()"
   ]
  },
  {
   "cell_type": "code",
   "execution_count": 41,
   "metadata": {},
   "outputs": [],
   "source": [
    "rf_random = RandomizedSearchCV(estimator=rf, param_distributions=param_grid, n_jobs=1, n_iter=10, cv=5, verbose=2, \n",
    "                               random_state=0)\n",
    "# , scoring='neg_mean_squared_error'"
   ]
  },
  {
   "cell_type": "code",
   "execution_count": 42,
   "metadata": {},
   "outputs": [
    {
     "name": "stdout",
     "output_type": "stream",
     "text": [
      "Fitting 5 folds for each of 10 candidates, totalling 50 fits\n",
      "[CV] n_estimators=300, min_samples_split=15, min_samples_leaf=5, max_features=sqrt, max_depth=25 \n"
     ]
    },
    {
     "name": "stderr",
     "output_type": "stream",
     "text": [
      "[Parallel(n_jobs=1)]: Using backend SequentialBackend with 1 concurrent workers.\n"
     ]
    },
    {
     "name": "stdout",
     "output_type": "stream",
     "text": [
      "[CV]  n_estimators=300, min_samples_split=15, min_samples_leaf=5, max_features=sqrt, max_depth=25, total=   1.0s\n",
      "[CV] n_estimators=300, min_samples_split=15, min_samples_leaf=5, max_features=sqrt, max_depth=25 \n"
     ]
    },
    {
     "name": "stderr",
     "output_type": "stream",
     "text": [
      "[Parallel(n_jobs=1)]: Done   1 out of   1 | elapsed:    0.9s remaining:    0.0s\n"
     ]
    },
    {
     "name": "stdout",
     "output_type": "stream",
     "text": [
      "[CV]  n_estimators=300, min_samples_split=15, min_samples_leaf=5, max_features=sqrt, max_depth=25, total=   1.0s\n",
      "[CV] n_estimators=300, min_samples_split=15, min_samples_leaf=5, max_features=sqrt, max_depth=25 \n",
      "[CV]  n_estimators=300, min_samples_split=15, min_samples_leaf=5, max_features=sqrt, max_depth=25, total=   1.0s\n",
      "[CV] n_estimators=300, min_samples_split=15, min_samples_leaf=5, max_features=sqrt, max_depth=25 \n",
      "[CV]  n_estimators=300, min_samples_split=15, min_samples_leaf=5, max_features=sqrt, max_depth=25, total=   1.0s\n",
      "[CV] n_estimators=300, min_samples_split=15, min_samples_leaf=5, max_features=sqrt, max_depth=25 \n",
      "[CV]  n_estimators=300, min_samples_split=15, min_samples_leaf=5, max_features=sqrt, max_depth=25, total=   1.0s\n",
      "[CV] n_estimators=800, min_samples_split=2, min_samples_leaf=1, max_features=sqrt, max_depth=25 \n",
      "[CV]  n_estimators=800, min_samples_split=2, min_samples_leaf=1, max_features=sqrt, max_depth=25, total=   4.1s\n",
      "[CV] n_estimators=800, min_samples_split=2, min_samples_leaf=1, max_features=sqrt, max_depth=25 \n",
      "[CV]  n_estimators=800, min_samples_split=2, min_samples_leaf=1, max_features=sqrt, max_depth=25, total=   4.3s\n",
      "[CV] n_estimators=800, min_samples_split=2, min_samples_leaf=1, max_features=sqrt, max_depth=25 \n",
      "[CV]  n_estimators=800, min_samples_split=2, min_samples_leaf=1, max_features=sqrt, max_depth=25, total=   4.3s\n",
      "[CV] n_estimators=800, min_samples_split=2, min_samples_leaf=1, max_features=sqrt, max_depth=25 \n",
      "[CV]  n_estimators=800, min_samples_split=2, min_samples_leaf=1, max_features=sqrt, max_depth=25, total=   3.7s\n",
      "[CV] n_estimators=800, min_samples_split=2, min_samples_leaf=1, max_features=sqrt, max_depth=25 \n",
      "[CV]  n_estimators=800, min_samples_split=2, min_samples_leaf=1, max_features=sqrt, max_depth=25, total=   3.5s\n",
      "[CV] n_estimators=400, min_samples_split=2, min_samples_leaf=2, max_features=log2, max_depth=15 \n",
      "[CV]  n_estimators=400, min_samples_split=2, min_samples_leaf=2, max_features=log2, max_depth=15, total=   1.5s\n",
      "[CV] n_estimators=400, min_samples_split=2, min_samples_leaf=2, max_features=log2, max_depth=15 \n",
      "[CV]  n_estimators=400, min_samples_split=2, min_samples_leaf=2, max_features=log2, max_depth=15, total=   1.7s\n",
      "[CV] n_estimators=400, min_samples_split=2, min_samples_leaf=2, max_features=log2, max_depth=15 \n",
      "[CV]  n_estimators=400, min_samples_split=2, min_samples_leaf=2, max_features=log2, max_depth=15, total=   1.9s\n",
      "[CV] n_estimators=400, min_samples_split=2, min_samples_leaf=2, max_features=log2, max_depth=15 \n",
      "[CV]  n_estimators=400, min_samples_split=2, min_samples_leaf=2, max_features=log2, max_depth=15, total=   1.6s\n",
      "[CV] n_estimators=400, min_samples_split=2, min_samples_leaf=2, max_features=log2, max_depth=15 \n",
      "[CV]  n_estimators=400, min_samples_split=2, min_samples_leaf=2, max_features=log2, max_depth=15, total=   1.6s\n",
      "[CV] n_estimators=500, min_samples_split=5, min_samples_leaf=2, max_features=sqrt, max_depth=30 \n",
      "[CV]  n_estimators=500, min_samples_split=5, min_samples_leaf=2, max_features=sqrt, max_depth=30, total=   2.1s\n",
      "[CV] n_estimators=500, min_samples_split=5, min_samples_leaf=2, max_features=sqrt, max_depth=30 \n",
      "[CV]  n_estimators=500, min_samples_split=5, min_samples_leaf=2, max_features=sqrt, max_depth=30, total=   2.0s\n",
      "[CV] n_estimators=500, min_samples_split=5, min_samples_leaf=2, max_features=sqrt, max_depth=30 \n",
      "[CV]  n_estimators=500, min_samples_split=5, min_samples_leaf=2, max_features=sqrt, max_depth=30, total=   1.8s\n",
      "[CV] n_estimators=500, min_samples_split=5, min_samples_leaf=2, max_features=sqrt, max_depth=30 \n",
      "[CV]  n_estimators=500, min_samples_split=5, min_samples_leaf=2, max_features=sqrt, max_depth=30, total=   1.8s\n",
      "[CV] n_estimators=500, min_samples_split=5, min_samples_leaf=2, max_features=sqrt, max_depth=30 \n",
      "[CV]  n_estimators=500, min_samples_split=5, min_samples_leaf=2, max_features=sqrt, max_depth=30, total=   1.9s\n",
      "[CV] n_estimators=600, min_samples_split=15, min_samples_leaf=1, max_features=sqrt, max_depth=10 \n",
      "[CV]  n_estimators=600, min_samples_split=15, min_samples_leaf=1, max_features=sqrt, max_depth=10, total=   2.3s\n",
      "[CV] n_estimators=600, min_samples_split=15, min_samples_leaf=1, max_features=sqrt, max_depth=10 \n",
      "[CV]  n_estimators=600, min_samples_split=15, min_samples_leaf=1, max_features=sqrt, max_depth=10, total=   1.9s\n",
      "[CV] n_estimators=600, min_samples_split=15, min_samples_leaf=1, max_features=sqrt, max_depth=10 \n",
      "[CV]  n_estimators=600, min_samples_split=15, min_samples_leaf=1, max_features=sqrt, max_depth=10, total=   2.1s\n",
      "[CV] n_estimators=600, min_samples_split=15, min_samples_leaf=1, max_features=sqrt, max_depth=10 \n",
      "[CV]  n_estimators=600, min_samples_split=15, min_samples_leaf=1, max_features=sqrt, max_depth=10, total=   2.3s\n",
      "[CV] n_estimators=600, min_samples_split=15, min_samples_leaf=1, max_features=sqrt, max_depth=10 \n",
      "[CV]  n_estimators=600, min_samples_split=15, min_samples_leaf=1, max_features=sqrt, max_depth=10, total=   2.1s\n",
      "[CV] n_estimators=400, min_samples_split=5, min_samples_leaf=10, max_features=auto, max_depth=10 \n",
      "[CV]  n_estimators=400, min_samples_split=5, min_samples_leaf=10, max_features=auto, max_depth=10, total=   1.6s\n",
      "[CV] n_estimators=400, min_samples_split=5, min_samples_leaf=10, max_features=auto, max_depth=10 \n",
      "[CV]  n_estimators=400, min_samples_split=5, min_samples_leaf=10, max_features=auto, max_depth=10, total=   1.7s\n",
      "[CV] n_estimators=400, min_samples_split=5, min_samples_leaf=10, max_features=auto, max_depth=10 \n",
      "[CV]  n_estimators=400, min_samples_split=5, min_samples_leaf=10, max_features=auto, max_depth=10, total=   1.8s\n",
      "[CV] n_estimators=400, min_samples_split=5, min_samples_leaf=10, max_features=auto, max_depth=10 \n",
      "[CV]  n_estimators=400, min_samples_split=5, min_samples_leaf=10, max_features=auto, max_depth=10, total=   1.5s\n",
      "[CV] n_estimators=400, min_samples_split=5, min_samples_leaf=10, max_features=auto, max_depth=10 \n",
      "[CV]  n_estimators=400, min_samples_split=5, min_samples_leaf=10, max_features=auto, max_depth=10, total=   1.5s\n",
      "[CV] n_estimators=200, min_samples_split=15, min_samples_leaf=5, max_features=log2, max_depth=15 \n",
      "[CV]  n_estimators=200, min_samples_split=15, min_samples_leaf=5, max_features=log2, max_depth=15, total=   0.7s\n",
      "[CV] n_estimators=200, min_samples_split=15, min_samples_leaf=5, max_features=log2, max_depth=15 \n",
      "[CV]  n_estimators=200, min_samples_split=15, min_samples_leaf=5, max_features=log2, max_depth=15, total=   0.7s\n",
      "[CV] n_estimators=200, min_samples_split=15, min_samples_leaf=5, max_features=log2, max_depth=15 \n",
      "[CV]  n_estimators=200, min_samples_split=15, min_samples_leaf=5, max_features=log2, max_depth=15, total=   0.7s\n",
      "[CV] n_estimators=200, min_samples_split=15, min_samples_leaf=5, max_features=log2, max_depth=15 \n",
      "[CV]  n_estimators=200, min_samples_split=15, min_samples_leaf=5, max_features=log2, max_depth=15, total=   0.6s\n",
      "[CV] n_estimators=200, min_samples_split=15, min_samples_leaf=5, max_features=log2, max_depth=15 \n",
      "[CV]  n_estimators=200, min_samples_split=15, min_samples_leaf=5, max_features=log2, max_depth=15, total=   0.6s\n",
      "[CV] n_estimators=200, min_samples_split=15, min_samples_leaf=1, max_features=log2, max_depth=30 \n",
      "[CV]  n_estimators=200, min_samples_split=15, min_samples_leaf=1, max_features=log2, max_depth=30, total=   0.6s\n",
      "[CV] n_estimators=200, min_samples_split=15, min_samples_leaf=1, max_features=log2, max_depth=30 \n",
      "[CV]  n_estimators=200, min_samples_split=15, min_samples_leaf=1, max_features=log2, max_depth=30, total=   0.6s\n",
      "[CV] n_estimators=200, min_samples_split=15, min_samples_leaf=1, max_features=log2, max_depth=30 \n",
      "[CV]  n_estimators=200, min_samples_split=15, min_samples_leaf=1, max_features=log2, max_depth=30, total=   0.6s\n",
      "[CV] n_estimators=200, min_samples_split=15, min_samples_leaf=1, max_features=log2, max_depth=30 \n",
      "[CV]  n_estimators=200, min_samples_split=15, min_samples_leaf=1, max_features=log2, max_depth=30, total=   0.6s\n",
      "[CV] n_estimators=200, min_samples_split=15, min_samples_leaf=1, max_features=log2, max_depth=30 \n",
      "[CV]  n_estimators=200, min_samples_split=15, min_samples_leaf=1, max_features=log2, max_depth=30, total=   0.6s\n",
      "[CV] n_estimators=400, min_samples_split=15, min_samples_leaf=1, max_features=log2, max_depth=10 \n",
      "[CV]  n_estimators=400, min_samples_split=15, min_samples_leaf=1, max_features=log2, max_depth=10, total=   1.0s\n",
      "[CV] n_estimators=400, min_samples_split=15, min_samples_leaf=1, max_features=log2, max_depth=10 \n",
      "[CV]  n_estimators=400, min_samples_split=15, min_samples_leaf=1, max_features=log2, max_depth=10, total=   1.1s\n",
      "[CV] n_estimators=400, min_samples_split=15, min_samples_leaf=1, max_features=log2, max_depth=10 \n",
      "[CV]  n_estimators=400, min_samples_split=15, min_samples_leaf=1, max_features=log2, max_depth=10, total=   1.1s\n",
      "[CV] n_estimators=400, min_samples_split=15, min_samples_leaf=1, max_features=log2, max_depth=10 \n",
      "[CV]  n_estimators=400, min_samples_split=15, min_samples_leaf=1, max_features=log2, max_depth=10, total=   1.1s\n",
      "[CV] n_estimators=400, min_samples_split=15, min_samples_leaf=1, max_features=log2, max_depth=10 \n",
      "[CV]  n_estimators=400, min_samples_split=15, min_samples_leaf=1, max_features=log2, max_depth=10, total=   1.1s\n",
      "[CV] n_estimators=800, min_samples_split=10, min_samples_leaf=2, max_features=sqrt, max_depth=5 \n",
      "[CV]  n_estimators=800, min_samples_split=10, min_samples_leaf=2, max_features=sqrt, max_depth=5, total=   2.0s\n",
      "[CV] n_estimators=800, min_samples_split=10, min_samples_leaf=2, max_features=sqrt, max_depth=5 \n",
      "[CV]  n_estimators=800, min_samples_split=10, min_samples_leaf=2, max_features=sqrt, max_depth=5, total=   2.0s\n",
      "[CV] n_estimators=800, min_samples_split=10, min_samples_leaf=2, max_features=sqrt, max_depth=5 \n",
      "[CV]  n_estimators=800, min_samples_split=10, min_samples_leaf=2, max_features=sqrt, max_depth=5, total=   2.0s\n",
      "[CV] n_estimators=800, min_samples_split=10, min_samples_leaf=2, max_features=sqrt, max_depth=5 \n",
      "[CV]  n_estimators=800, min_samples_split=10, min_samples_leaf=2, max_features=sqrt, max_depth=5, total=   2.1s\n",
      "[CV] n_estimators=800, min_samples_split=10, min_samples_leaf=2, max_features=sqrt, max_depth=5 \n",
      "[CV]  n_estimators=800, min_samples_split=10, min_samples_leaf=2, max_features=sqrt, max_depth=5, total=   2.0s\n"
     ]
    },
    {
     "name": "stderr",
     "output_type": "stream",
     "text": [
      "[Parallel(n_jobs=1)]: Done  50 out of  50 | elapsed:  1.4min finished\n"
     ]
    },
    {
     "data": {
      "text/plain": [
       "RandomizedSearchCV(cv=5, error_score=nan,\n",
       "                   estimator=RandomForestRegressor(bootstrap=True,\n",
       "                                                   ccp_alpha=0.0,\n",
       "                                                   criterion='mse',\n",
       "                                                   max_depth=None,\n",
       "                                                   max_features='auto',\n",
       "                                                   max_leaf_nodes=None,\n",
       "                                                   max_samples=None,\n",
       "                                                   min_impurity_decrease=0.0,\n",
       "                                                   min_impurity_split=None,\n",
       "                                                   min_samples_leaf=1,\n",
       "                                                   min_samples_split=2,\n",
       "                                                   min_weight_fraction_leaf=0.0,\n",
       "                                                   n_estimators=100,\n",
       "                                                   n_jobs=None, oob_score=Fals...\n",
       "                                                   warm_start=False),\n",
       "                   iid='deprecated', n_iter=10, n_jobs=1,\n",
       "                   param_distributions={'max_depth': [5, 10, 15, 20, 25, 30],\n",
       "                                        'max_features': ['auto', 'sqrt',\n",
       "                                                         'log2'],\n",
       "                                        'min_samples_leaf': [1, 2, 5, 10],\n",
       "                                        'min_samples_split': [2, 5, 10, 15,\n",
       "                                                              100],\n",
       "                                        'n_estimators': [100, 200, 300, 400,\n",
       "                                                         500, 600, 700, 800,\n",
       "                                                         900, 1000]},\n",
       "                   pre_dispatch='2*n_jobs', random_state=0, refit=True,\n",
       "                   return_train_score=False, scoring=None, verbose=2)"
      ]
     },
     "execution_count": 42,
     "metadata": {},
     "output_type": "execute_result"
    }
   ],
   "source": [
    "rf_random.fit(X_train,y_train)"
   ]
  },
  {
   "cell_type": "code",
   "execution_count": 43,
   "metadata": {},
   "outputs": [],
   "source": [
    "rf_pred = rf_random.predict(X_test)"
   ]
  },
  {
   "cell_type": "code",
   "execution_count": 44,
   "metadata": {},
   "outputs": [
    {
     "data": {
      "text/plain": [
       "array([10955.17826747, 10475.51936001, 45861.71158171, 13979.1641012 ,\n",
       "       10642.95894411,  7289.07672002,  2616.13032007, 13651.65030417,\n",
       "        7696.25704218,  7478.37229694,  7965.90958332, 13933.92147035,\n",
       "        8172.96820137,  5450.66751947, 19422.22814466, 12110.32109179,\n",
       "       14237.87512493,  6358.19924855,  7249.71158505, 35321.51987515,\n",
       "       24077.53692166, 15847.09315947, 11293.35757434, 27121.83895345,\n",
       "        3485.70339102,  8582.82900095,  6003.8682157 ,  8014.03636525,\n",
       "        4113.48230302, 10295.15578953,  7957.72672107, 47550.69221582,\n",
       "       14035.80946486, 11353.91984436, 17454.79564578,  4868.9877759 ,\n",
       "        9404.17050002, 38244.27547681, 40148.73226383,  3566.96208351,\n",
       "        6953.93401743,  4278.86932009, 20038.85670986, 47326.80455659,\n",
       "       38101.26405204,  6565.6706352 , 12174.74480206,  6952.27762469,\n",
       "        6847.94038283, 12902.00367082,  4178.22826803,  6354.64095638,\n",
       "       26932.56200059, 46597.15877596, 11545.69866667,  6922.75058516,\n",
       "        3264.42800569, 11900.80732366,  9026.77800601, 16795.00097451,\n",
       "        2237.27838417, 45589.69324339, 17817.81610051, 11171.98465666,\n",
       "       12599.46043437,  9833.15863873, 35321.51987515, 39645.79742845,\n",
       "        4550.40306902,  8399.70536776, 14453.60295507, 12533.02112204,\n",
       "       17962.67024665, 14132.01238132, 14252.76450317, 14496.24605539,\n",
       "        9554.68435517,  9300.59045122, 19986.59617393, 46486.83216541,\n",
       "       12240.55769091, 45059.06503946,  3894.83688201,  8945.20258006,\n",
       "       41941.55021064, 19665.2877201 ,  4152.71094555,  3963.2962025 ,\n",
       "       16084.78598524, 39009.13197503,  9315.26773479, 12200.14681697,\n",
       "        4148.52017193, 10130.43431757,  8237.58646094,  7641.32223091,\n",
       "       46026.78531301, 42009.41863247,  7299.64104147, 11235.21844592,\n",
       "        3899.44423021,  7438.04906615,  5859.48379768, 40802.52188282,\n",
       "       24908.50428625,  5188.80028144, 11708.00144599,  5976.18670229,\n",
       "       11985.10825826, 46083.71292727, 14353.03387717,  6139.12161746,\n",
       "       11630.96171002, 35321.51987515, 47550.69221582,  7733.86438019,\n",
       "        2891.31732739, 12085.92591753, 16631.08399076, 10698.37139562,\n",
       "       42840.58385302, 11875.96150683, 14128.46302463,  9389.51431108,\n",
       "        9587.55099082,  7015.4312017 , 26551.49816957, 23664.1563069 ,\n",
       "       47908.80098575,  2652.68158413,  9339.02901182,  4858.60677243,\n",
       "        6545.47271137, 10451.34567703, 34769.74205262, 40223.88562507,\n",
       "       22554.43164659, 11921.13552842, 24208.57387598,  5316.18870821,\n",
       "        3714.38353458, 12622.03015932, 10440.66825909, 11469.25592617,\n",
       "        5973.98656324, 14011.93247497, 16695.95513841,  6793.7618859 ,\n",
       "        1777.89582522, 12763.29258015,  7181.36931222, 38624.89057846,\n",
       "       11312.97680199,  4696.20341312,  4649.94907885,  7247.95165527,\n",
       "        5160.17387867,  3887.18632069, 13166.62450482, 10734.10730433,\n",
       "        9117.29611498, 14024.04156039, 14277.72825447,  9635.09820445,\n",
       "        5852.19240996,  8123.9587299 , 17338.00920351,  9021.14450107,\n",
       "        6190.66875953,  3185.86275088,  8124.48070271,  7850.15845177,\n",
       "        9457.09897422,  3629.68371975,  5793.23792927,  5373.6524581 ,\n",
       "        7796.05078172,  7369.31306388, 27109.8217613 ,  2247.00287435,\n",
       "       15159.29438732,  7669.23034937, 11906.25436954,  3848.79179062,\n",
       "        7840.25883353, 27528.73861661,  4147.34152677,  3084.17054098,\n",
       "       13897.4003529 , 12444.75717046, 43623.45031646,  5348.77996474,\n",
       "        5523.97462989, 24648.68266867,  3696.50350514,  4868.56829213,\n",
       "        8723.70429195,  9665.96134085,  6252.70427349,  5350.3798152 ,\n",
       "       12291.28313626, 46076.76708392, 15914.49412494, 19201.80079408,\n",
       "        8403.91974788, 44969.48621167,  6999.37335452, 10570.93062614,\n",
       "        6489.89428717,  2887.07111341, 10924.00985284, 14087.09599376,\n",
       "        7101.0159709 ,  3945.57446825,  6944.89025416,  5566.98961735,\n",
       "        7181.87043696,  7585.73191216, 16694.43849533,  8023.85632869,\n",
       "        6871.21402206,  8396.42508979, 11044.60684341,  4960.47178053,\n",
       "       11845.59942895, 14116.18821544, 15194.537876  , 12611.66363041,\n",
       "        7205.65914489,  3812.77907916,  3708.53951086, 10788.42765955,\n",
       "       13230.53250415,  7344.31894312,  4887.58122567,  7704.39172367,\n",
       "       13143.85053527, 35330.44604212,  6998.9778919 , 14341.9424508 ,\n",
       "        6476.4514771 , 37944.41519535,  8154.0576087 ,  9052.61786118,\n",
       "        9459.9441693 , 11132.35584286,  6083.48187187,  8973.7180895 ,\n",
       "        2616.52533216,  7610.14222777, 19996.37166619, 45578.51740014,\n",
       "        4956.34955384,  4177.02059411,  3036.02044558,  2261.05637273,\n",
       "        8713.04900319,  3051.10032882,  6768.60844555,  5070.10643293,\n",
       "        9477.62257075, 26754.44136555, 46026.78531301, 17888.31563701,\n",
       "        6970.12311772, 11904.65727452, 40489.02563756, 10685.88473854,\n",
       "       40117.54464777,  3029.01268738, 38242.25119978,  5878.70487981,\n",
       "       12788.01777804,  6900.0502104 , 41216.49973335,  8152.74107547,\n",
       "       10736.27396868, 10142.29414704,  5304.78088478, 16804.2248825 ,\n",
       "       12823.15501586,  7860.00509975, 13900.40402023,  4460.73987853,\n",
       "        9388.25620701,  4872.78391702,  8538.96805396, 23301.70473641,\n",
       "        4344.53493938,  2241.44087014,  5405.32976341, 46521.1216695 ,\n",
       "       11729.14799656,  5998.14943941, 16035.68169722, 12834.94123654,\n",
       "       35323.59706324,  7116.13469729,  5970.28745113,  9682.90626958,\n",
       "        3569.14036041,  5643.10040589, 17451.24174874, 18271.9345136 ,\n",
       "       13878.40545061,  3884.46624522,  3914.34176307, 11013.45103431,\n",
       "       11161.47505785, 17003.22964807, 20611.36287374,  6760.07270989,\n",
       "       17171.74968706,  3599.57593684,  8080.18490759,  6683.17623465,\n",
       "       11428.29672998,  4538.17920613,  8782.58641166, 45887.63341171,\n",
       "        7062.75285678,  7766.01585695,  2024.50911123,  9989.17579599,\n",
       "        4488.67025263, 12042.01738908, 45543.71886252, 18299.48994514,\n",
       "       11201.46905162, 44629.5371255 , 16009.06714773,  8377.49705356,\n",
       "       10040.9297423 ,  5044.05349592, 27492.98554174])"
      ]
     },
     "execution_count": 44,
     "metadata": {},
     "output_type": "execute_result"
    }
   ],
   "source": [
    "rf_pred"
   ]
  },
  {
   "cell_type": "code",
   "execution_count": 45,
   "metadata": {},
   "outputs": [
    {
     "data": {
      "text/plain": [
       "<matplotlib.axes._subplots.AxesSubplot at 0x2eb02065c08>"
      ]
     },
     "execution_count": 45,
     "metadata": {},
     "output_type": "execute_result"
    },
    {
     "data": {
      "image/png": "[encoded data removed]",
      "text/plain": [
       "<Figure size 648x360 with 1 Axes>"
      ]
     },
     "metadata": {},
     "output_type": "display_data"
    }
   ],
   "source": [
    "sns.distplot(y_test-rf_pred)"
   ]
  },
  {
   "cell_type": "code",
   "execution_count": 46,
   "metadata": {},
   "outputs": [
    {
     "name": "stdout",
     "output_type": "stream",
     "text": [
      "15434488.183168352\n",
      "90.2\n"
     ]
    }
   ],
   "source": [
    "print(mean_squared_error(y_test, rf_pred))\n",
    "print(round(rf_random.score(X_test,y_test)*100,2))"
   ]
  },
  {
   "cell_type": "markdown",
   "metadata": {},
   "source": [
    "### XG Boost:"
   ]
  },
  {
   "cell_type": "code",
   "execution_count": 47,
   "metadata": {},
   "outputs": [],
   "source": [
    "xg = xgb.XGBRegressor()"
   ]
  },
  {
   "cell_type": "code",
   "execution_count": 48,
   "metadata": {},
   "outputs": [],
   "source": [
    "xg_rand = RandomizedSearchCV(estimator=xg, param_distributions=param_grid, n_jobs=1, n_iter=10, cv=5, verbose=2, \n",
    "                               random_state=0)\n",
    "# , scoring='neg_mean_squared_error'"
   ]
  },
  {
   "cell_type": "code",
   "execution_count": 49,
   "metadata": {},
   "outputs": [
    {
     "name": "stdout",
     "output_type": "stream",
     "text": [
      "Fitting 5 folds for each of 10 candidates, totalling 50 fits\n",
      "[CV] n_estimators=300, min_samples_split=15, min_samples_leaf=5, max_features=sqrt, max_depth=25 \n",
      "[22:25:21] WARNING: C:/Jenkins/workspace/xgboost-win64_release_0.90/src/objective/regression_obj.cu:152: reg:linear is now deprecated in favor of reg:squarederror.\n"
     ]
    },
    {
     "name": "stderr",
     "output_type": "stream",
     "text": [
      "[Parallel(n_jobs=1)]: Using backend SequentialBackend with 1 concurrent workers.\n"
     ]
    },
    {
     "name": "stdout",
     "output_type": "stream",
     "text": [
      "[CV]  n_estimators=300, min_samples_split=15, min_samples_leaf=5, max_features=sqrt, max_depth=25, total=   1.8s\n",
      "[CV] n_estimators=300, min_samples_split=15, min_samples_leaf=5, max_features=sqrt, max_depth=25 \n",
      "[22:25:23] WARNING: C:/Jenkins/workspace/xgboost-win64_release_0.90/src/objective/regression_obj.cu:152: reg:linear is now deprecated in favor of reg:squarederror.\n"
     ]
    },
    {
     "name": "stderr",
     "output_type": "stream",
     "text": [
      "[Parallel(n_jobs=1)]: Done   1 out of   1 | elapsed:    1.7s remaining:    0.0s\n"
     ]
    },
    {
     "name": "stdout",
     "output_type": "stream",
     "text": [
      "[CV]  n_estimators=300, min_samples_split=15, min_samples_leaf=5, max_features=sqrt, max_depth=25, total=   1.6s\n",
      "[CV] n_estimators=300, min_samples_split=15, min_samples_leaf=5, max_features=sqrt, max_depth=25 \n",
      "[22:25:25] WARNING: C:/Jenkins/workspace/xgboost-win64_release_0.90/src/objective/regression_obj.cu:152: reg:linear is now deprecated in favor of reg:squarederror.\n",
      "[CV]  n_estimators=300, min_samples_split=15, min_samples_leaf=5, max_features=sqrt, max_depth=25, total=   1.7s\n",
      "[CV] n_estimators=300, min_samples_split=15, min_samples_leaf=5, max_features=sqrt, max_depth=25 \n",
      "[22:25:26] WARNING: C:/Jenkins/workspace/xgboost-win64_release_0.90/src/objective/regression_obj.cu:152: reg:linear is now deprecated in favor of reg:squarederror.\n",
      "[CV]  n_estimators=300, min_samples_split=15, min_samples_leaf=5, max_features=sqrt, max_depth=25, total=   1.4s\n",
      "[CV] n_estimators=300, min_samples_split=15, min_samples_leaf=5, max_features=sqrt, max_depth=25 \n",
      "[22:25:28] WARNING: C:/Jenkins/workspace/xgboost-win64_release_0.90/src/objective/regression_obj.cu:152: reg:linear is now deprecated in favor of reg:squarederror.\n",
      "[CV]  n_estimators=300, min_samples_split=15, min_samples_leaf=5, max_features=sqrt, max_depth=25, total=   1.3s\n",
      "[CV] n_estimators=800, min_samples_split=2, min_samples_leaf=1, max_features=sqrt, max_depth=25 \n",
      "[22:25:29] WARNING: C:/Jenkins/workspace/xgboost-win64_release_0.90/src/objective/regression_obj.cu:152: reg:linear is now deprecated in favor of reg:squarederror.\n",
      "[CV]  n_estimators=800, min_samples_split=2, min_samples_leaf=1, max_features=sqrt, max_depth=25, total=   3.5s\n",
      "[CV] n_estimators=800, min_samples_split=2, min_samples_leaf=1, max_features=sqrt, max_depth=25 \n",
      "[22:25:33] WARNING: C:/Jenkins/workspace/xgboost-win64_release_0.90/src/objective/regression_obj.cu:152: reg:linear is now deprecated in favor of reg:squarederror.\n",
      "[CV]  n_estimators=800, min_samples_split=2, min_samples_leaf=1, max_features=sqrt, max_depth=25, total=   3.7s\n",
      "[CV] n_estimators=800, min_samples_split=2, min_samples_leaf=1, max_features=sqrt, max_depth=25 \n",
      "[22:25:36] WARNING: C:/Jenkins/workspace/xgboost-win64_release_0.90/src/objective/regression_obj.cu:152: reg:linear is now deprecated in favor of reg:squarederror.\n",
      "[CV]  n_estimators=800, min_samples_split=2, min_samples_leaf=1, max_features=sqrt, max_depth=25, total=   3.6s\n",
      "[CV] n_estimators=800, min_samples_split=2, min_samples_leaf=1, max_features=sqrt, max_depth=25 \n",
      "[22:25:40] WARNING: C:/Jenkins/workspace/xgboost-win64_release_0.90/src/objective/regression_obj.cu:152: reg:linear is now deprecated in favor of reg:squarederror.\n",
      "[CV]  n_estimators=800, min_samples_split=2, min_samples_leaf=1, max_features=sqrt, max_depth=25, total=   3.4s\n",
      "[CV] n_estimators=800, min_samples_split=2, min_samples_leaf=1, max_features=sqrt, max_depth=25 \n",
      "[22:25:43] WARNING: C:/Jenkins/workspace/xgboost-win64_release_0.90/src/objective/regression_obj.cu:152: reg:linear is now deprecated in favor of reg:squarederror.\n",
      "[CV]  n_estimators=800, min_samples_split=2, min_samples_leaf=1, max_features=sqrt, max_depth=25, total=   3.3s\n",
      "[CV] n_estimators=400, min_samples_split=2, min_samples_leaf=2, max_features=log2, max_depth=15 \n",
      "[22:25:47] WARNING: C:/Jenkins/workspace/xgboost-win64_release_0.90/src/objective/regression_obj.cu:152: reg:linear is now deprecated in favor of reg:squarederror.\n",
      "[CV]  n_estimators=400, min_samples_split=2, min_samples_leaf=2, max_features=log2, max_depth=15, total=   1.4s\n",
      "[CV] n_estimators=400, min_samples_split=2, min_samples_leaf=2, max_features=log2, max_depth=15 \n",
      "[22:25:48] WARNING: C:/Jenkins/workspace/xgboost-win64_release_0.90/src/objective/regression_obj.cu:152: reg:linear is now deprecated in favor of reg:squarederror.\n",
      "[CV]  n_estimators=400, min_samples_split=2, min_samples_leaf=2, max_features=log2, max_depth=15, total=   1.5s\n",
      "[CV] n_estimators=400, min_samples_split=2, min_samples_leaf=2, max_features=log2, max_depth=15 \n",
      "[22:25:50] WARNING: C:/Jenkins/workspace/xgboost-win64_release_0.90/src/objective/regression_obj.cu:152: reg:linear is now deprecated in favor of reg:squarederror.\n",
      "[CV]  n_estimators=400, min_samples_split=2, min_samples_leaf=2, max_features=log2, max_depth=15, total=   1.6s\n",
      "[CV] n_estimators=400, min_samples_split=2, min_samples_leaf=2, max_features=log2, max_depth=15 \n",
      "[22:25:51] WARNING: C:/Jenkins/workspace/xgboost-win64_release_0.90/src/objective/regression_obj.cu:152: reg:linear is now deprecated in favor of reg:squarederror.\n",
      "[CV]  n_estimators=400, min_samples_split=2, min_samples_leaf=2, max_features=log2, max_depth=15, total=   1.5s\n",
      "[CV] n_estimators=400, min_samples_split=2, min_samples_leaf=2, max_features=log2, max_depth=15 \n",
      "[22:25:53] WARNING: C:/Jenkins/workspace/xgboost-win64_release_0.90/src/objective/regression_obj.cu:152: reg:linear is now deprecated in favor of reg:squarederror.\n",
      "[CV]  n_estimators=400, min_samples_split=2, min_samples_leaf=2, max_features=log2, max_depth=15, total=   1.6s\n",
      "[CV] n_estimators=500, min_samples_split=5, min_samples_leaf=2, max_features=sqrt, max_depth=30 \n",
      "[22:25:54] WARNING: C:/Jenkins/workspace/xgboost-win64_release_0.90/src/objective/regression_obj.cu:152: reg:linear is now deprecated in favor of reg:squarederror.\n",
      "[CV]  n_estimators=500, min_samples_split=5, min_samples_leaf=2, max_features=sqrt, max_depth=30, total=   2.3s\n",
      "[CV] n_estimators=500, min_samples_split=5, min_samples_leaf=2, max_features=sqrt, max_depth=30 \n",
      "[22:25:57] WARNING: C:/Jenkins/workspace/xgboost-win64_release_0.90/src/objective/regression_obj.cu:152: reg:linear is now deprecated in favor of reg:squarederror.\n",
      "[CV]  n_estimators=500, min_samples_split=5, min_samples_leaf=2, max_features=sqrt, max_depth=30, total=   2.3s\n",
      "[CV] n_estimators=500, min_samples_split=5, min_samples_leaf=2, max_features=sqrt, max_depth=30 \n",
      "[22:25:59] WARNING: C:/Jenkins/workspace/xgboost-win64_release_0.90/src/objective/regression_obj.cu:152: reg:linear is now deprecated in favor of reg:squarederror.\n",
      "[CV]  n_estimators=500, min_samples_split=5, min_samples_leaf=2, max_features=sqrt, max_depth=30, total=   2.3s\n",
      "[CV] n_estimators=500, min_samples_split=5, min_samples_leaf=2, max_features=sqrt, max_depth=30 \n",
      "[22:26:01] WARNING: C:/Jenkins/workspace/xgboost-win64_release_0.90/src/objective/regression_obj.cu:152: reg:linear is now deprecated in favor of reg:squarederror.\n",
      "[CV]  n_estimators=500, min_samples_split=5, min_samples_leaf=2, max_features=sqrt, max_depth=30, total=   2.9s\n",
      "[CV] n_estimators=500, min_samples_split=5, min_samples_leaf=2, max_features=sqrt, max_depth=30 \n",
      "[22:26:04] WARNING: C:/Jenkins/workspace/xgboost-win64_release_0.90/src/objective/regression_obj.cu:152: reg:linear is now deprecated in favor of reg:squarederror.\n",
      "[CV]  n_estimators=500, min_samples_split=5, min_samples_leaf=2, max_features=sqrt, max_depth=30, total=   2.7s\n",
      "[CV] n_estimators=600, min_samples_split=15, min_samples_leaf=1, max_features=sqrt, max_depth=10 \n",
      "[22:26:07] WARNING: C:/Jenkins/workspace/xgboost-win64_release_0.90/src/objective/regression_obj.cu:152: reg:linear is now deprecated in favor of reg:squarederror.\n",
      "[CV]  n_estimators=600, min_samples_split=15, min_samples_leaf=1, max_features=sqrt, max_depth=10, total=   1.7s\n",
      "[CV] n_estimators=600, min_samples_split=15, min_samples_leaf=1, max_features=sqrt, max_depth=10 \n",
      "[22:26:09] WARNING: C:/Jenkins/workspace/xgboost-win64_release_0.90/src/objective/regression_obj.cu:152: reg:linear is now deprecated in favor of reg:squarederror.\n",
      "[CV]  n_estimators=600, min_samples_split=15, min_samples_leaf=1, max_features=sqrt, max_depth=10, total=   1.6s\n",
      "[CV] n_estimators=600, min_samples_split=15, min_samples_leaf=1, max_features=sqrt, max_depth=10 \n",
      "[22:26:10] WARNING: C:/Jenkins/workspace/xgboost-win64_release_0.90/src/objective/regression_obj.cu:152: reg:linear is now deprecated in favor of reg:squarederror.\n",
      "[CV]  n_estimators=600, min_samples_split=15, min_samples_leaf=1, max_features=sqrt, max_depth=10, total=   1.6s\n",
      "[CV] n_estimators=600, min_samples_split=15, min_samples_leaf=1, max_features=sqrt, max_depth=10 \n",
      "[22:26:12] WARNING: C:/Jenkins/workspace/xgboost-win64_release_0.90/src/objective/regression_obj.cu:152: reg:linear is now deprecated in favor of reg:squarederror.\n",
      "[CV]  n_estimators=600, min_samples_split=15, min_samples_leaf=1, max_features=sqrt, max_depth=10, total=   1.9s\n",
      "[CV] n_estimators=600, min_samples_split=15, min_samples_leaf=1, max_features=sqrt, max_depth=10 \n",
      "[22:26:14] WARNING: C:/Jenkins/workspace/xgboost-win64_release_0.90/src/objective/regression_obj.cu:152: reg:linear is now deprecated in favor of reg:squarederror.\n",
      "[CV]  n_estimators=600, min_samples_split=15, min_samples_leaf=1, max_features=sqrt, max_depth=10, total=   2.3s\n",
      "[CV] n_estimators=400, min_samples_split=5, min_samples_leaf=10, max_features=auto, max_depth=10 \n",
      "[22:26:16] WARNING: C:/Jenkins/workspace/xgboost-win64_release_0.90/src/objective/regression_obj.cu:152: reg:linear is now deprecated in favor of reg:squarederror.\n",
      "[CV]  n_estimators=400, min_samples_split=5, min_samples_leaf=10, max_features=auto, max_depth=10, total=   1.5s\n",
      "[CV] n_estimators=400, min_samples_split=5, min_samples_leaf=10, max_features=auto, max_depth=10 \n",
      "[22:26:18] WARNING: C:/Jenkins/workspace/xgboost-win64_release_0.90/src/objective/regression_obj.cu:152: reg:linear is now deprecated in favor of reg:squarederror.\n",
      "[CV]  n_estimators=400, min_samples_split=5, min_samples_leaf=10, max_features=auto, max_depth=10, total=   1.5s\n",
      "[CV] n_estimators=400, min_samples_split=5, min_samples_leaf=10, max_features=auto, max_depth=10 \n",
      "[22:26:19] WARNING: C:/Jenkins/workspace/xgboost-win64_release_0.90/src/objective/regression_obj.cu:152: reg:linear is now deprecated in favor of reg:squarederror.\n",
      "[CV]  n_estimators=400, min_samples_split=5, min_samples_leaf=10, max_features=auto, max_depth=10, total=   1.5s\n",
      "[CV] n_estimators=400, min_samples_split=5, min_samples_leaf=10, max_features=auto, max_depth=10 \n",
      "[22:26:20] WARNING: C:/Jenkins/workspace/xgboost-win64_release_0.90/src/objective/regression_obj.cu:152: reg:linear is now deprecated in favor of reg:squarederror.\n",
      "[CV]  n_estimators=400, min_samples_split=5, min_samples_leaf=10, max_features=auto, max_depth=10, total=   1.1s\n",
      "[CV] n_estimators=400, min_samples_split=5, min_samples_leaf=10, max_features=auto, max_depth=10 \n",
      "[22:26:22] WARNING: C:/Jenkins/workspace/xgboost-win64_release_0.90/src/objective/regression_obj.cu:152: reg:linear is now deprecated in favor of reg:squarederror.\n",
      "[CV]  n_estimators=400, min_samples_split=5, min_samples_leaf=10, max_features=auto, max_depth=10, total=   1.2s\n",
      "[CV] n_estimators=200, min_samples_split=15, min_samples_leaf=5, max_features=log2, max_depth=15 \n",
      "[22:26:23] WARNING: C:/Jenkins/workspace/xgboost-win64_release_0.90/src/objective/regression_obj.cu:152: reg:linear is now deprecated in favor of reg:squarederror.\n",
      "[CV]  n_estimators=200, min_samples_split=15, min_samples_leaf=5, max_features=log2, max_depth=15, total=   1.0s\n",
      "[CV] n_estimators=200, min_samples_split=15, min_samples_leaf=5, max_features=log2, max_depth=15 \n",
      "[22:26:24] WARNING: C:/Jenkins/workspace/xgboost-win64_release_0.90/src/objective/regression_obj.cu:152: reg:linear is now deprecated in favor of reg:squarederror.\n",
      "[CV]  n_estimators=200, min_samples_split=15, min_samples_leaf=5, max_features=log2, max_depth=15, total=   1.5s\n",
      "[CV] n_estimators=200, min_samples_split=15, min_samples_leaf=5, max_features=log2, max_depth=15 \n",
      "[22:26:25] WARNING: C:/Jenkins/workspace/xgboost-win64_release_0.90/src/objective/regression_obj.cu:152: reg:linear is now deprecated in favor of reg:squarederror.\n",
      "[CV]  n_estimators=200, min_samples_split=15, min_samples_leaf=5, max_features=log2, max_depth=15, total=   1.2s\n",
      "[CV] n_estimators=200, min_samples_split=15, min_samples_leaf=5, max_features=log2, max_depth=15 \n",
      "[22:26:26] WARNING: C:/Jenkins/workspace/xgboost-win64_release_0.90/src/objective/regression_obj.cu:152: reg:linear is now deprecated in favor of reg:squarederror.\n",
      "[CV]  n_estimators=200, min_samples_split=15, min_samples_leaf=5, max_features=log2, max_depth=15, total=   1.0s\n",
      "[CV] n_estimators=200, min_samples_split=15, min_samples_leaf=5, max_features=log2, max_depth=15 \n",
      "[22:26:27] WARNING: C:/Jenkins/workspace/xgboost-win64_release_0.90/src/objective/regression_obj.cu:152: reg:linear is now deprecated in favor of reg:squarederror.\n",
      "[CV]  n_estimators=200, min_samples_split=15, min_samples_leaf=5, max_features=log2, max_depth=15, total=   1.2s\n",
      "[CV] n_estimators=200, min_samples_split=15, min_samples_leaf=1, max_features=log2, max_depth=30 \n",
      "[22:26:29] WARNING: C:/Jenkins/workspace/xgboost-win64_release_0.90/src/objective/regression_obj.cu:152: reg:linear is now deprecated in favor of reg:squarederror.\n",
      "[CV]  n_estimators=200, min_samples_split=15, min_samples_leaf=1, max_features=log2, max_depth=30, total=   1.4s\n",
      "[CV] n_estimators=200, min_samples_split=15, min_samples_leaf=1, max_features=log2, max_depth=30 \n",
      "[22:26:30] WARNING: C:/Jenkins/workspace/xgboost-win64_release_0.90/src/objective/regression_obj.cu:152: reg:linear is now deprecated in favor of reg:squarederror.\n",
      "[CV]  n_estimators=200, min_samples_split=15, min_samples_leaf=1, max_features=log2, max_depth=30, total=   1.5s\n",
      "[CV] n_estimators=200, min_samples_split=15, min_samples_leaf=1, max_features=log2, max_depth=30 \n",
      "[22:26:32] WARNING: C:/Jenkins/workspace/xgboost-win64_release_0.90/src/objective/regression_obj.cu:152: reg:linear is now deprecated in favor of reg:squarederror.\n",
      "[CV]  n_estimators=200, min_samples_split=15, min_samples_leaf=1, max_features=log2, max_depth=30, total=   1.2s\n",
      "[CV] n_estimators=200, min_samples_split=15, min_samples_leaf=1, max_features=log2, max_depth=30 \n",
      "[22:26:33] WARNING: C:/Jenkins/workspace/xgboost-win64_release_0.90/src/objective/regression_obj.cu:152: reg:linear is now deprecated in favor of reg:squarederror.\n",
      "[CV]  n_estimators=200, min_samples_split=15, min_samples_leaf=1, max_features=log2, max_depth=30, total=   1.3s\n",
      "[CV] n_estimators=200, min_samples_split=15, min_samples_leaf=1, max_features=log2, max_depth=30 \n",
      "[22:26:34] WARNING: C:/Jenkins/workspace/xgboost-win64_release_0.90/src/objective/regression_obj.cu:152: reg:linear is now deprecated in favor of reg:squarederror.\n",
      "[CV]  n_estimators=200, min_samples_split=15, min_samples_leaf=1, max_features=log2, max_depth=30, total=   1.2s\n",
      "[CV] n_estimators=400, min_samples_split=15, min_samples_leaf=1, max_features=log2, max_depth=10 \n",
      "[22:26:35] WARNING: C:/Jenkins/workspace/xgboost-win64_release_0.90/src/objective/regression_obj.cu:152: reg:linear is now deprecated in favor of reg:squarederror.\n",
      "[CV]  n_estimators=400, min_samples_split=15, min_samples_leaf=1, max_features=log2, max_depth=10, total=   1.2s\n",
      "[CV] n_estimators=400, min_samples_split=15, min_samples_leaf=1, max_features=log2, max_depth=10 \n",
      "[22:26:36] WARNING: C:/Jenkins/workspace/xgboost-win64_release_0.90/src/objective/regression_obj.cu:152: reg:linear is now deprecated in favor of reg:squarederror.\n",
      "[CV]  n_estimators=400, min_samples_split=15, min_samples_leaf=1, max_features=log2, max_depth=10, total=   1.1s\n",
      "[CV] n_estimators=400, min_samples_split=15, min_samples_leaf=1, max_features=log2, max_depth=10 \n",
      "[22:26:38] WARNING: C:/Jenkins/workspace/xgboost-win64_release_0.90/src/objective/regression_obj.cu:152: reg:linear is now deprecated in favor of reg:squarederror.\n",
      "[CV]  n_estimators=400, min_samples_split=15, min_samples_leaf=1, max_features=log2, max_depth=10, total=   1.1s\n",
      "[CV] n_estimators=400, min_samples_split=15, min_samples_leaf=1, max_features=log2, max_depth=10 \n",
      "[22:26:39] WARNING: C:/Jenkins/workspace/xgboost-win64_release_0.90/src/objective/regression_obj.cu:152: reg:linear is now deprecated in favor of reg:squarederror.\n",
      "[CV]  n_estimators=400, min_samples_split=15, min_samples_leaf=1, max_features=log2, max_depth=10, total=   1.1s\n",
      "[CV] n_estimators=400, min_samples_split=15, min_samples_leaf=1, max_features=log2, max_depth=10 \n",
      "[22:26:40] WARNING: C:/Jenkins/workspace/xgboost-win64_release_0.90/src/objective/regression_obj.cu:152: reg:linear is now deprecated in favor of reg:squarederror.\n",
      "[CV]  n_estimators=400, min_samples_split=15, min_samples_leaf=1, max_features=log2, max_depth=10, total=   1.1s\n",
      "[CV] n_estimators=800, min_samples_split=10, min_samples_leaf=2, max_features=sqrt, max_depth=5 \n",
      "[22:26:41] WARNING: C:/Jenkins/workspace/xgboost-win64_release_0.90/src/objective/regression_obj.cu:152: reg:linear is now deprecated in favor of reg:squarederror.\n",
      "[CV]  n_estimators=800, min_samples_split=10, min_samples_leaf=2, max_features=sqrt, max_depth=5, total=   1.1s\n",
      "[CV] n_estimators=800, min_samples_split=10, min_samples_leaf=2, max_features=sqrt, max_depth=5 \n",
      "[22:26:42] WARNING: C:/Jenkins/workspace/xgboost-win64_release_0.90/src/objective/regression_obj.cu:152: reg:linear is now deprecated in favor of reg:squarederror.\n",
      "[CV]  n_estimators=800, min_samples_split=10, min_samples_leaf=2, max_features=sqrt, max_depth=5, total=   1.2s\n",
      "[CV] n_estimators=800, min_samples_split=10, min_samples_leaf=2, max_features=sqrt, max_depth=5 \n",
      "[22:26:43] WARNING: C:/Jenkins/workspace/xgboost-win64_release_0.90/src/objective/regression_obj.cu:152: reg:linear is now deprecated in favor of reg:squarederror.\n",
      "[CV]  n_estimators=800, min_samples_split=10, min_samples_leaf=2, max_features=sqrt, max_depth=5, total=   1.1s\n",
      "[CV] n_estimators=800, min_samples_split=10, min_samples_leaf=2, max_features=sqrt, max_depth=5 \n",
      "[22:26:44] WARNING: C:/Jenkins/workspace/xgboost-win64_release_0.90/src/objective/regression_obj.cu:152: reg:linear is now deprecated in favor of reg:squarederror.\n",
      "[CV]  n_estimators=800, min_samples_split=10, min_samples_leaf=2, max_features=sqrt, max_depth=5, total=   1.3s\n",
      "[CV] n_estimators=800, min_samples_split=10, min_samples_leaf=2, max_features=sqrt, max_depth=5 \n",
      "[22:26:46] WARNING: C:/Jenkins/workspace/xgboost-win64_release_0.90/src/objective/regression_obj.cu:152: reg:linear is now deprecated in favor of reg:squarederror.\n",
      "[CV]  n_estimators=800, min_samples_split=10, min_samples_leaf=2, max_features=sqrt, max_depth=5, total=   1.3s\n",
      "[22:26:47] WARNING: C:/Jenkins/workspace/xgboost-win64_release_0.90/src/objective/regression_obj.cu:152: reg:linear is now deprecated in favor of reg:squarederror.\n"
     ]
    },
    {
     "name": "stderr",
     "output_type": "stream",
     "text": [
      "[Parallel(n_jobs=1)]: Done  50 out of  50 | elapsed:  1.4min finished\n"
     ]
    },
    {
     "data": {
      "text/plain": [
       "RandomizedSearchCV(cv=5, error_score=nan,\n",
       "                   estimator=XGBRegressor(base_score=0.5, booster='gbtree',\n",
       "                                          colsample_bylevel=1,\n",
       "                                          colsample_bynode=1,\n",
       "                                          colsample_bytree=1, gamma=0,\n",
       "                                          importance_type='gain',\n",
       "                                          learning_rate=0.1, max_delta_step=0,\n",
       "                                          max_depth=3, min_child_weight=1,\n",
       "                                          missing=None, n_estimators=100,\n",
       "                                          n_jobs=1, nthread=None,\n",
       "                                          objective='reg:linear',\n",
       "                                          random_state=0, reg_alpha=...\n",
       "                                          verbosity=1),\n",
       "                   iid='deprecated', n_iter=10, n_jobs=1,\n",
       "                   param_distributions={'max_depth': [5, 10, 15, 20, 25, 30],\n",
       "                                        'max_features': ['auto', 'sqrt',\n",
       "                                                         'log2'],\n",
       "                                        'min_samples_leaf': [1, 2, 5, 10],\n",
       "                                        'min_samples_split': [2, 5, 10, 15,\n",
       "                                                              100],\n",
       "                                        'n_estimators': [100, 200, 300, 400,\n",
       "                                                         500, 600, 700, 800,\n",
       "                                                         900, 1000]},\n",
       "                   pre_dispatch='2*n_jobs', random_state=0, refit=True,\n",
       "                   return_train_score=False, scoring=None, verbose=2)"
      ]
     },
     "execution_count": 49,
     "metadata": {},
     "output_type": "execute_result"
    }
   ],
   "source": [
    "xg_rand.fit(X_train,y_train)"
   ]
  },
  {
   "cell_type": "code",
   "execution_count": 50,
   "metadata": {},
   "outputs": [],
   "source": [
    "xg_pred = xg_rand.predict(X_test)"
   ]
  },
  {
   "cell_type": "code",
   "execution_count": 51,
   "metadata": {},
   "outputs": [
    {
     "data": {
      "text/plain": [
       "array([ 9416.495 ,  8676.233 , 44658.895 , 12695.504 ,  9168.524 ,\n",
       "       15231.28  ,  2196.4841, 10104.1045,  6792.9536,  5659.1704,\n",
       "        6504.048 , 23754.41  ,  7843.2334,  4531.416 , 32628.182 ,\n",
       "       11836.265 , 12041.023 ,  7243.7734,  6243.8228, 34097.07  ,\n",
       "       23104.834 , 14383.993 , 10584.995 , 27263.9   ,  7265.585 ,\n",
       "       10185.9   ,  5989.8887,  9253.247 ,  3718.394 , 14563.403 ,\n",
       "        7250.3384, 48673.527 , 20571.28  , 12475.582 , 15330.231 ,\n",
       "        3947.4043,  9130.7   , 37698.457 , 39235.08  ,  2247.4976,\n",
       "       11827.348 ,  2664.9011, 19324.09  , 47362.36  , 36434.914 ,\n",
       "        3564.0647, 11845.342 ,  6341.1133,  4970.2344, 11438.388 ,\n",
       "        3199.5852, 20348.945 , 27981.688 , 48621.812 , 11615.304 ,\n",
       "       14871.1045,  2325.0178, 11723.487 ,  9265.221 , 12832.077 ,\n",
       "        1313.8578, 45760.062 , 16187.128 ,  9908.29  , 10091.088 ,\n",
       "        9319.608 , 34332.797 , 39013.414 ,  3102.3179,  8163.1406,\n",
       "       13889.874 , 10731.355 , 16835.78  , 13949.965 , 13036.864 ,\n",
       "       27806.188 ,  7411.307 ,  7912.5503, 19436.033 , 46168.33  ,\n",
       "       11119.847 , 46120.402 ,  1861.76  ,  8171.9326, 42266.01  ,\n",
       "       18750.861 ,  2914.126 ,  4862.3247, 10289.512 , 36950.254 ,\n",
       "       13856.238 , 14873.563 ,  3176.127 ,  8456.132 , 12456.249 ,\n",
       "        8617.4375, 42227.53  , 55855.637 ,  6470.4463, 10509.389 ,\n",
       "        1845.6011,  7295.551 ,  5945.578 , 38891.184 , 25747.8   ,\n",
       "        3331.9292, 11354.491 , 14647.454 , 12288.025 , 45021.67  ,\n",
       "       13067.978 ,  4815.7705,  9308.016 , 34103.062 , 47835.668 ,\n",
       "        6710.859 ,  2145.2915,  8592.478 , 23693.557 , 13447.295 ,\n",
       "       41680.047 , 10484.58  , 14625.541 , 16057.262 ,  7017.3594,\n",
       "        5369.7793, 27103.014 , 27196.025 , 48197.8   ,  2053.5024,\n",
       "       10508.584 ,  2012.9437,  6127.059 ,  8701.92  , 43048.84  ,\n",
       "       37157.9   , 27968.992 , 11801.186 , 24538.365 , 12329.295 ,\n",
       "        2206.1973, 14182.102 , 17822.102 , 11059.593 ,  5355.22  ,\n",
       "       13993.015 , 29817.146 ,  9772.61  ,  1628.4722, 10623.095 ,\n",
       "        6721.9644, 39344.79  , 12147.951 ,  6545.1177,  9358.066 ,\n",
       "       12053.216 ,  2491.1392,  1876.3563, 12580.491 ,  9584.2   ,\n",
       "       10171.46  , 13173.858 , 13281.58  ,  8949.581 ,  6111.6753,\n",
       "       10181.032 , 18125.518 , 14473.829 ,  4494.802 ,  1666.794 ,\n",
       "        9046.561 ,  4990.7275, 12434.254 ,  2068.9402,  5219.1943,\n",
       "        5994.835 ,  7203.714 ,  9879.017 , 27189.078 ,  1701.4985,\n",
       "       19764.826 ,  6398.0635, 11639.43  ,  2516.3164,  6066.8057,\n",
       "       28108.365 ,  1890.46  ,  2274.0674, 15335.25  , 12745.437 ,\n",
       "       41451.215 ,  3756.4812,  5194.665 , 25680.7   ,  2993.7402,\n",
       "        4737.9795, 17732.611 , 15577.988 ,  6821.5757,  4687.1455,\n",
       "       16115.051 , 46079.125 , 13183.094 , 18995.918 , 10334.839 ,\n",
       "       43082.66  ,  6765.2817,  9496.168 ,  5451.0723,  1223.4292,\n",
       "        8705.825 , 14313.866 ,  4954.8296,  2799.506 ,  6631.3296,\n",
       "        6098.4766,  6421.617 , 10270.573 , 13984.988 ,  7177.134 ,\n",
       "        6402.7246,  7868.7754, 13638.636 ,  3084.7742, 11867.885 ,\n",
       "       13746.99  , 23377.227 , 11170.464 ,  6494.7124,  2690.6174,\n",
       "       16509.    ,  7779.388 , 13923.832 ,  7764.1494,  4186.5283,\n",
       "        6815.0513, 19412.709 , 34321.38  ,  6641.232 , 14477.653 ,\n",
       "        6266.1436, 35720.645 ,  7164.49  ,  8612.315 ,  9235.546 ,\n",
       "        9049.682 ,  8955.311 ,  7942.1133,  2331.6133,  6688.7954,\n",
       "       19270.44  , 45108.87  ,  3601.783 ,  2996.8987,  4067.8716,\n",
       "        1704.6989,  7639.26  ,  2082.656 ,  7076.4287,  3953.2637,\n",
       "        8311.012 , 27016.203 , 44966.367 , 18171.266 ,  6522.847 ,\n",
       "       11173.371 , 45531.03  , 10855.489 , 39365.676 ,  1135.9847,\n",
       "       38327.242 ,  4838.217 , 13495.929 ,  6552.081 , 39351.1   ,\n",
       "       11712.703 ,  9325.    ,  9614.982 , 10709.205 , 12307.911 ,\n",
       "       11457.618 , 10264.5625, 21899.379 , 21344.83  ,  7432.7017,\n",
       "        3741.1345,  8603.666 , 22235.434 ,  2679.8809,  1705.2145,\n",
       "        5202.2266, 47200.78  ,  9840.953 ,  5697.926 , 13624.611 ,\n",
       "       13184.236 , 35027.32  ,  6752.454 ,  4852.5977,  8762.974 ,\n",
       "        1639.5686, 12758.774 , 27111.389 , 20231.691 , 12787.734 ,\n",
       "        3012.2544,  3163.105 , 19603.55  ,  9973.982 , 14621.427 ,\n",
       "       20397.834 ,  5408.159 , 18466.236 ,  3023.3772,  9240.251 ,\n",
       "       12811.775 , 12252.136 ,  2265.3647,  7472.4775, 46112.242 ,\n",
       "        4668.407 , 10760.184 ,  2060.733 ,  8445.854 ,  5811.31  ,\n",
       "       11387.499 , 46316.227 , 17342.936 ,  9318.087 , 46878.16  ,\n",
       "       15618.645 , 10824.466 ,  9386.219 ,  3783.8506, 28246.9   ],\n",
       "      dtype=float32)"
      ]
     },
     "execution_count": 51,
     "metadata": {},
     "output_type": "execute_result"
    }
   ],
   "source": [
    "xg_pred"
   ]
  },
  {
   "cell_type": "code",
   "execution_count": 52,
   "metadata": {},
   "outputs": [
    {
     "data": {
      "text/plain": [
       "<matplotlib.axes._subplots.AxesSubplot at 0x2eb030ccfc8>"
      ]
     },
     "execution_count": 52,
     "metadata": {},
     "output_type": "execute_result"
    },
    {
     "data": {
      "image/png": "[encoded data removed]",
      "text/plain": [
       "<Figure size 648x360 with 1 Axes>"
      ]
     },
     "metadata": {},
     "output_type": "display_data"
    }
   ],
   "source": [
    "sns.distplot(y_test-xg_pred)"
   ]
  },
  {
   "cell_type": "code",
   "execution_count": 53,
   "metadata": {},
   "outputs": [
    {
     "name": "stdout",
     "output_type": "stream",
     "text": [
      "27481781.796086952\n",
      "82.54\n"
     ]
    }
   ],
   "source": [
    "print(mean_squared_error(y_test, xg_pred))\n",
    "print(round(xg_rand.score(X_test,y_test)*100,2))"
   ]
  },
  {
   "cell_type": "markdown",
   "metadata": {},
   "source": [
    "As we can see that, **Random Forest with RandomizedSearchCV** gives us the **best accuracy**. So, we will select our best model as Random Forest in which the parameters are chosen by using RandomizedSearchCV."
   ]
  },
  {
   "cell_type": "code",
   "execution_count": 54,
   "metadata": {},
   "outputs": [],
   "source": [
    "import pickle\n",
    "\n",
    "# Store the data of the best model in a file with .pkl exension\n",
    "file = open('random_forest_regressor_model.pkl','wb')\n",
    "\n",
    "# Now, dump info about your best model (Random Forest in our case) into the .pkl file\n",
    "pickle.dump(rf_random, file)"
   ]
  },
  {
   "cell_type": "code",
   "execution_count": null,
   "metadata": {},
   "outputs": [],
   "source": []
  },
  {
   "cell_type": "code",
   "execution_count": null,
   "metadata": {},
   "outputs": [],
   "source": []
  },
  {
   "cell_type": "code",
   "execution_count": null,
   "metadata": {},
   "outputs": [],
   "source": []
  }
 ],
 "metadata": {
  "kernelspec": {
   "display_name": "Python 3",
   "language": "python",
   "name": "python3"
  },
  "language_info": {
   "codemirror_mode": {
    "name": "ipython",
    "version": 3
   },
   "file_extension": ".py",
   "mimetype": "text/x-python",
   "name": "python",
   "nbconvert_exporter": "python",
   "pygments_lexer": "ipython3",
   "version": "3.7.6"
  }
 },
 "nbformat": 4,
 "nbformat_minor": 4
}
